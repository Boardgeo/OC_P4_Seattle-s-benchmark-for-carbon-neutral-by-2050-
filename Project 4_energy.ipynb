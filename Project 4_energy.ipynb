{
 "cells": [
  {
   "cell_type": "markdown",
   "id": "b701954e",
   "metadata": {},
   "source": [
    "# Seattle's benchmark for carbon-neutral by 2050 "
   ]
  },
  {
   "cell_type": "markdown",
   "id": "236b2a1c",
   "metadata": {},
   "source": [
    "## Context\n",
    " - The City of Seattle's benchmark policy is to reduce energy use and greenhouse gas emissions from existing buildings, and achieve a zero net greenhouse gas (GHG) emissions by 2050. To achieve this goal, careful surveys of the energy consumption, gas emissions, and building prpoperties (such as size, number of floors, parking etc) were conducted by city staff in 2016 and made available at https://data.seattle.gov/dataset/2016-Building-Energy-Benchmarking/2bpz-gwpy. However, these surveys are expensive to obtain, and from the ones already done, they want to try to predict the CO2 emissions and total energy consumption of non-housing buildings for which they have not yet been measured. "
   ]
  },
  {
   "cell_type": "markdown",
   "id": "3e5ca8a9",
   "metadata": {},
   "source": [
    "## Task\n",
    " - To achieve this goal, I am looking closely look at the documented consumption and emissions data of non-housing buildings in the City of Seattle to predict the CO2 emissions and total energy consumption of non-residential buildings that have not yet been measured.\n",
    " - I will also evaluate and integrate the value of the \"ENERGY STAR Score\" for energy prediction, which is tedious to calculate with the approach currently used. "
   ]
  },
  {
   "cell_type": "markdown",
   "id": "b8994ff3",
   "metadata": {},
   "source": [
    "### Part 2\n",
    " - Predict total energy consumption\n",
    " - Evaluate influence of ENERGY STAR SCORE on energy consumption "
   ]
  },
  {
   "cell_type": "markdown",
   "id": "9e8b01fd",
   "metadata": {},
   "source": [
    "### 1.0 Data loading\n",
    " - import the cleaned data from Part 1"
   ]
  },
  {
   "cell_type": "code",
   "execution_count": 1,
   "id": "4bf4dc2f",
   "metadata": {},
   "outputs": [],
   "source": [
    "# importation of libraries\n",
    "\n",
    "# data loading and manipulation\n",
    "import pandas as pd\n",
    "import numpy as np # for array creation\n",
    "\n",
    "# data visualization\n",
    "import matplotlib.pyplot as plt\n",
    "import seaborn as sns\n",
    "\n",
    "%matplotlib inline"
   ]
  },
  {
   "cell_type": "code",
   "execution_count": 2,
   "id": "c7d0d14e",
   "metadata": {},
   "outputs": [
    {
     "data": {
      "text/html": [
       "<div>\n",
       "<style scoped>\n",
       "    .dataframe tbody tr th:only-of-type {\n",
       "        vertical-align: middle;\n",
       "    }\n",
       "\n",
       "    .dataframe tbody tr th {\n",
       "        vertical-align: top;\n",
       "    }\n",
       "\n",
       "    .dataframe thead th {\n",
       "        text-align: right;\n",
       "    }\n",
       "</style>\n",
       "<table border=\"1\" class=\"dataframe\">\n",
       "  <thead>\n",
       "    <tr style=\"text-align: right;\">\n",
       "      <th></th>\n",
       "      <th>BuildingType</th>\n",
       "      <th>Neighborhood</th>\n",
       "      <th>PrimaryPropertyType</th>\n",
       "      <th>LargestPropertyUseType</th>\n",
       "      <th>SecondLargestPropertyUseType</th>\n",
       "      <th>ThirdLargestPropertyUseType</th>\n",
       "      <th>NumberofBuildings</th>\n",
       "      <th>NumberofFloors</th>\n",
       "      <th>PropertyGFAParking</th>\n",
       "      <th>LargestPropertyUseTypeGFA</th>\n",
       "      <th>SecondLargestPropertyUseTypeGFA</th>\n",
       "      <th>ThirdLargestPropertyUseTypeGFA</th>\n",
       "      <th>ENERGYSTARScore</th>\n",
       "      <th>SiteEnergyUse(kBtu)</th>\n",
       "      <th>TotalGHGEmissions</th>\n",
       "      <th>BuildingAge</th>\n",
       "      <th>AreaPerBuilding</th>\n",
       "      <th>AreaPerFloor</th>\n",
       "    </tr>\n",
       "  </thead>\n",
       "  <tbody>\n",
       "    <tr>\n",
       "      <th>0</th>\n",
       "      <td>NonResidential</td>\n",
       "      <td>Downtown</td>\n",
       "      <td>Hotel</td>\n",
       "      <td>Hotel</td>\n",
       "      <td>None</td>\n",
       "      <td>None</td>\n",
       "      <td>1.0</td>\n",
       "      <td>12</td>\n",
       "      <td>0</td>\n",
       "      <td>88434.0</td>\n",
       "      <td>0.0</td>\n",
       "      <td>0.0</td>\n",
       "      <td>60.0</td>\n",
       "      <td>7226362.5</td>\n",
       "      <td>249.98</td>\n",
       "      <td>89</td>\n",
       "      <td>88434.0</td>\n",
       "      <td>7370.0</td>\n",
       "    </tr>\n",
       "    <tr>\n",
       "      <th>1</th>\n",
       "      <td>NonResidential</td>\n",
       "      <td>Downtown</td>\n",
       "      <td>Hotel</td>\n",
       "      <td>Hotel</td>\n",
       "      <td>Parking</td>\n",
       "      <td>Restaurant</td>\n",
       "      <td>1.0</td>\n",
       "      <td>11</td>\n",
       "      <td>15064</td>\n",
       "      <td>83880.0</td>\n",
       "      <td>15064.0</td>\n",
       "      <td>4622.0</td>\n",
       "      <td>61.0</td>\n",
       "      <td>8387933.0</td>\n",
       "      <td>295.86</td>\n",
       "      <td>20</td>\n",
       "      <td>103566.0</td>\n",
       "      <td>9415.0</td>\n",
       "    </tr>\n",
       "    <tr>\n",
       "      <th>2</th>\n",
       "      <td>NonResidential</td>\n",
       "      <td>Downtown</td>\n",
       "      <td>Hotel</td>\n",
       "      <td>Hotel</td>\n",
       "      <td>None</td>\n",
       "      <td>None</td>\n",
       "      <td>1.0</td>\n",
       "      <td>41</td>\n",
       "      <td>196718</td>\n",
       "      <td>756493.0</td>\n",
       "      <td>0.0</td>\n",
       "      <td>0.0</td>\n",
       "      <td>43.0</td>\n",
       "      <td>72587024.0</td>\n",
       "      <td>2089.28</td>\n",
       "      <td>47</td>\n",
       "      <td>956110.0</td>\n",
       "      <td>23320.0</td>\n",
       "    </tr>\n",
       "    <tr>\n",
       "      <th>3</th>\n",
       "      <td>NonResidential</td>\n",
       "      <td>Downtown</td>\n",
       "      <td>Hotel</td>\n",
       "      <td>Hotel</td>\n",
       "      <td>None</td>\n",
       "      <td>None</td>\n",
       "      <td>1.0</td>\n",
       "      <td>10</td>\n",
       "      <td>0</td>\n",
       "      <td>61320.0</td>\n",
       "      <td>0.0</td>\n",
       "      <td>0.0</td>\n",
       "      <td>56.0</td>\n",
       "      <td>6794584.0</td>\n",
       "      <td>286.43</td>\n",
       "      <td>90</td>\n",
       "      <td>61320.0</td>\n",
       "      <td>6132.0</td>\n",
       "    </tr>\n",
       "    <tr>\n",
       "      <th>4</th>\n",
       "      <td>NonResidential</td>\n",
       "      <td>Downtown</td>\n",
       "      <td>Hotel</td>\n",
       "      <td>Hotel</td>\n",
       "      <td>Parking</td>\n",
       "      <td>Swimming Pool</td>\n",
       "      <td>1.0</td>\n",
       "      <td>18</td>\n",
       "      <td>62000</td>\n",
       "      <td>123445.0</td>\n",
       "      <td>68009.0</td>\n",
       "      <td>0.0</td>\n",
       "      <td>75.0</td>\n",
       "      <td>14172606.0</td>\n",
       "      <td>505.01</td>\n",
       "      <td>36</td>\n",
       "      <td>175580.0</td>\n",
       "      <td>9754.0</td>\n",
       "    </tr>\n",
       "  </tbody>\n",
       "</table>\n",
       "</div>"
      ],
      "text/plain": [
       "     BuildingType Neighborhood PrimaryPropertyType LargestPropertyUseType  \\\n",
       "0  NonResidential     Downtown               Hotel                  Hotel   \n",
       "1  NonResidential     Downtown               Hotel                  Hotel   \n",
       "2  NonResidential     Downtown               Hotel                  Hotel   \n",
       "3  NonResidential     Downtown               Hotel                  Hotel   \n",
       "4  NonResidential     Downtown               Hotel                  Hotel   \n",
       "\n",
       "  SecondLargestPropertyUseType ThirdLargestPropertyUseType  NumberofBuildings  \\\n",
       "0                         None                        None                1.0   \n",
       "1                      Parking                  Restaurant                1.0   \n",
       "2                         None                        None                1.0   \n",
       "3                         None                        None                1.0   \n",
       "4                      Parking               Swimming Pool                1.0   \n",
       "\n",
       "   NumberofFloors  PropertyGFAParking  LargestPropertyUseTypeGFA  \\\n",
       "0              12                   0                    88434.0   \n",
       "1              11               15064                    83880.0   \n",
       "2              41              196718                   756493.0   \n",
       "3              10                   0                    61320.0   \n",
       "4              18               62000                   123445.0   \n",
       "\n",
       "   SecondLargestPropertyUseTypeGFA  ThirdLargestPropertyUseTypeGFA  \\\n",
       "0                              0.0                             0.0   \n",
       "1                          15064.0                          4622.0   \n",
       "2                              0.0                             0.0   \n",
       "3                              0.0                             0.0   \n",
       "4                          68009.0                             0.0   \n",
       "\n",
       "   ENERGYSTARScore  SiteEnergyUse(kBtu)  TotalGHGEmissions  BuildingAge  \\\n",
       "0             60.0            7226362.5             249.98           89   \n",
       "1             61.0            8387933.0             295.86           20   \n",
       "2             43.0           72587024.0            2089.28           47   \n",
       "3             56.0            6794584.0             286.43           90   \n",
       "4             75.0           14172606.0             505.01           36   \n",
       "\n",
       "   AreaPerBuilding  AreaPerFloor  \n",
       "0          88434.0        7370.0  \n",
       "1         103566.0        9415.0  \n",
       "2         956110.0       23320.0  \n",
       "3          61320.0        6132.0  \n",
       "4         175580.0        9754.0  "
      ]
     },
     "execution_count": 2,
     "metadata": {},
     "output_type": "execute_result"
    }
   ],
   "source": [
    "# loading the dataset to pandas DataFrame\n",
    "\n",
    "Data = pd.read_csv('Data_Energy.csv', low_memory=False)\n",
    "Data.head()"
   ]
  },
  {
   "cell_type": "code",
   "execution_count": 3,
   "id": "555fbf15",
   "metadata": {},
   "outputs": [
    {
     "data": {
      "text/plain": [
       "(1522, 18)"
      ]
     },
     "execution_count": 3,
     "metadata": {},
     "output_type": "execute_result"
    }
   ],
   "source": [
    "Data.shape"
   ]
  },
  {
   "cell_type": "code",
   "execution_count": 4,
   "id": "79191aa4",
   "metadata": {},
   "outputs": [
    {
     "name": "stdout",
     "output_type": "stream",
     "text": [
      "<class 'pandas.core.frame.DataFrame'>\n",
      "RangeIndex: 1522 entries, 0 to 1521\n",
      "Data columns (total 18 columns):\n",
      " #   Column                           Non-Null Count  Dtype  \n",
      "---  ------                           --------------  -----  \n",
      " 0   BuildingType                     1522 non-null   object \n",
      " 1   Neighborhood                     1522 non-null   object \n",
      " 2   PrimaryPropertyType              1522 non-null   object \n",
      " 3   LargestPropertyUseType           1522 non-null   object \n",
      " 4   SecondLargestPropertyUseType     1522 non-null   object \n",
      " 5   ThirdLargestPropertyUseType      1522 non-null   object \n",
      " 6   NumberofBuildings                1522 non-null   float64\n",
      " 7   NumberofFloors                   1522 non-null   int64  \n",
      " 8   PropertyGFAParking               1522 non-null   int64  \n",
      " 9   LargestPropertyUseTypeGFA        1522 non-null   float64\n",
      " 10  SecondLargestPropertyUseTypeGFA  1522 non-null   float64\n",
      " 11  ThirdLargestPropertyUseTypeGFA   1522 non-null   float64\n",
      " 12  ENERGYSTARScore                  1019 non-null   float64\n",
      " 13  SiteEnergyUse(kBtu)              1522 non-null   float64\n",
      " 14  TotalGHGEmissions                1522 non-null   float64\n",
      " 15  BuildingAge                      1522 non-null   int64  \n",
      " 16  AreaPerBuilding                  1522 non-null   float64\n",
      " 17  AreaPerFloor                     1522 non-null   float64\n",
      "dtypes: float64(9), int64(3), object(6)\n",
      "memory usage: 214.2+ KB\n"
     ]
    }
   ],
   "source": [
    "Data.info()"
   ]
  },
  {
   "cell_type": "code",
   "execution_count": 5,
   "id": "f11d2706",
   "metadata": {},
   "outputs": [
    {
     "data": {
      "text/html": [
       "<div>\n",
       "<style scoped>\n",
       "    .dataframe tbody tr th:only-of-type {\n",
       "        vertical-align: middle;\n",
       "    }\n",
       "\n",
       "    .dataframe tbody tr th {\n",
       "        vertical-align: top;\n",
       "    }\n",
       "\n",
       "    .dataframe thead th {\n",
       "        text-align: right;\n",
       "    }\n",
       "</style>\n",
       "<table border=\"1\" class=\"dataframe\">\n",
       "  <thead>\n",
       "    <tr style=\"text-align: right;\">\n",
       "      <th></th>\n",
       "      <th>NumberofBuildings</th>\n",
       "      <th>NumberofFloors</th>\n",
       "      <th>PropertyGFAParking</th>\n",
       "      <th>LargestPropertyUseTypeGFA</th>\n",
       "      <th>SecondLargestPropertyUseTypeGFA</th>\n",
       "      <th>ThirdLargestPropertyUseTypeGFA</th>\n",
       "      <th>ENERGYSTARScore</th>\n",
       "      <th>SiteEnergyUse(kBtu)</th>\n",
       "      <th>TotalGHGEmissions</th>\n",
       "      <th>BuildingAge</th>\n",
       "      <th>AreaPerBuilding</th>\n",
       "      <th>AreaPerFloor</th>\n",
       "    </tr>\n",
       "  </thead>\n",
       "  <tbody>\n",
       "    <tr>\n",
       "      <th>count</th>\n",
       "      <td>1522.000000</td>\n",
       "      <td>1522.000000</td>\n",
       "      <td>1522.000000</td>\n",
       "      <td>1.522000e+03</td>\n",
       "      <td>1522.000000</td>\n",
       "      <td>1522.000000</td>\n",
       "      <td>1019.000000</td>\n",
       "      <td>1.522000e+03</td>\n",
       "      <td>1522.000000</td>\n",
       "      <td>1522.000000</td>\n",
       "      <td>1.522000e+03</td>\n",
       "      <td>1522.00</td>\n",
       "    </tr>\n",
       "    <tr>\n",
       "      <th>mean</th>\n",
       "      <td>1.143233</td>\n",
       "      <td>4.124836</td>\n",
       "      <td>13266.474376</td>\n",
       "      <td>9.272740e+04</td>\n",
       "      <td>18337.777462</td>\n",
       "      <td>2655.924046</td>\n",
       "      <td>65.842002</td>\n",
       "      <td>7.714137e+06</td>\n",
       "      <td>167.832799</td>\n",
       "      <td>54.363995</td>\n",
       "      <td>1.065581e+05</td>\n",
       "      <td>inf</td>\n",
       "    </tr>\n",
       "    <tr>\n",
       "      <th>std</th>\n",
       "      <td>1.190245</td>\n",
       "      <td>6.705816</td>\n",
       "      <td>43347.929125</td>\n",
       "      <td>1.594783e+05</td>\n",
       "      <td>48447.958911</td>\n",
       "      <td>12790.286588</td>\n",
       "      <td>28.320464</td>\n",
       "      <td>1.919568e+07</td>\n",
       "      <td>590.624890</td>\n",
       "      <td>32.589011</td>\n",
       "      <td>1.829735e+05</td>\n",
       "      <td>NaN</td>\n",
       "    </tr>\n",
       "    <tr>\n",
       "      <th>min</th>\n",
       "      <td>1.000000</td>\n",
       "      <td>0.000000</td>\n",
       "      <td>0.000000</td>\n",
       "      <td>5.656000e+03</td>\n",
       "      <td>0.000000</td>\n",
       "      <td>0.000000</td>\n",
       "      <td>1.000000</td>\n",
       "      <td>1.680890e+04</td>\n",
       "      <td>-0.800000</td>\n",
       "      <td>1.000000</td>\n",
       "      <td>4.300000e+03</td>\n",
       "      <td>222.00</td>\n",
       "    </tr>\n",
       "    <tr>\n",
       "      <th>25%</th>\n",
       "      <td>1.000000</td>\n",
       "      <td>1.000000</td>\n",
       "      <td>0.000000</td>\n",
       "      <td>2.550525e+04</td>\n",
       "      <td>0.000000</td>\n",
       "      <td>0.000000</td>\n",
       "      <td>49.000000</td>\n",
       "      <td>1.229609e+06</td>\n",
       "      <td>19.740000</td>\n",
       "      <td>27.000000</td>\n",
       "      <td>2.862400e+04</td>\n",
       "      <td>13461.25</td>\n",
       "    </tr>\n",
       "    <tr>\n",
       "      <th>50%</th>\n",
       "      <td>1.000000</td>\n",
       "      <td>2.000000</td>\n",
       "      <td>0.000000</td>\n",
       "      <td>4.316100e+04</td>\n",
       "      <td>0.000000</td>\n",
       "      <td>0.000000</td>\n",
       "      <td>74.000000</td>\n",
       "      <td>2.522356e+06</td>\n",
       "      <td>48.705000</td>\n",
       "      <td>51.000000</td>\n",
       "      <td>4.679850e+04</td>\n",
       "      <td>23121.50</td>\n",
       "    </tr>\n",
       "    <tr>\n",
       "      <th>75%</th>\n",
       "      <td>1.000000</td>\n",
       "      <td>4.000000</td>\n",
       "      <td>0.000000</td>\n",
       "      <td>8.978975e+04</td>\n",
       "      <td>12914.750000</td>\n",
       "      <td>0.000000</td>\n",
       "      <td>89.000000</td>\n",
       "      <td>6.913348e+06</td>\n",
       "      <td>134.772500</td>\n",
       "      <td>86.000000</td>\n",
       "      <td>9.935525e+04</td>\n",
       "      <td>38206.50</td>\n",
       "    </tr>\n",
       "    <tr>\n",
       "      <th>max</th>\n",
       "      <td>27.000000</td>\n",
       "      <td>99.000000</td>\n",
       "      <td>512608.000000</td>\n",
       "      <td>1.719643e+06</td>\n",
       "      <td>441551.000000</td>\n",
       "      <td>303910.000000</td>\n",
       "      <td>100.000000</td>\n",
       "      <td>2.930908e+08</td>\n",
       "      <td>12307.160000</td>\n",
       "      <td>116.000000</td>\n",
       "      <td>2.200000e+06</td>\n",
       "      <td>inf</td>\n",
       "    </tr>\n",
       "  </tbody>\n",
       "</table>\n",
       "</div>"
      ],
      "text/plain": [
       "       NumberofBuildings  NumberofFloors  PropertyGFAParking  \\\n",
       "count        1522.000000     1522.000000         1522.000000   \n",
       "mean            1.143233        4.124836        13266.474376   \n",
       "std             1.190245        6.705816        43347.929125   \n",
       "min             1.000000        0.000000            0.000000   \n",
       "25%             1.000000        1.000000            0.000000   \n",
       "50%             1.000000        2.000000            0.000000   \n",
       "75%             1.000000        4.000000            0.000000   \n",
       "max            27.000000       99.000000       512608.000000   \n",
       "\n",
       "       LargestPropertyUseTypeGFA  SecondLargestPropertyUseTypeGFA  \\\n",
       "count               1.522000e+03                      1522.000000   \n",
       "mean                9.272740e+04                     18337.777462   \n",
       "std                 1.594783e+05                     48447.958911   \n",
       "min                 5.656000e+03                         0.000000   \n",
       "25%                 2.550525e+04                         0.000000   \n",
       "50%                 4.316100e+04                         0.000000   \n",
       "75%                 8.978975e+04                     12914.750000   \n",
       "max                 1.719643e+06                    441551.000000   \n",
       "\n",
       "       ThirdLargestPropertyUseTypeGFA  ENERGYSTARScore  SiteEnergyUse(kBtu)  \\\n",
       "count                     1522.000000      1019.000000         1.522000e+03   \n",
       "mean                      2655.924046        65.842002         7.714137e+06   \n",
       "std                      12790.286588        28.320464         1.919568e+07   \n",
       "min                          0.000000         1.000000         1.680890e+04   \n",
       "25%                          0.000000        49.000000         1.229609e+06   \n",
       "50%                          0.000000        74.000000         2.522356e+06   \n",
       "75%                          0.000000        89.000000         6.913348e+06   \n",
       "max                     303910.000000       100.000000         2.930908e+08   \n",
       "\n",
       "       TotalGHGEmissions  BuildingAge  AreaPerBuilding  AreaPerFloor  \n",
       "count        1522.000000  1522.000000     1.522000e+03       1522.00  \n",
       "mean          167.832799    54.363995     1.065581e+05           inf  \n",
       "std           590.624890    32.589011     1.829735e+05           NaN  \n",
       "min            -0.800000     1.000000     4.300000e+03        222.00  \n",
       "25%            19.740000    27.000000     2.862400e+04      13461.25  \n",
       "50%            48.705000    51.000000     4.679850e+04      23121.50  \n",
       "75%           134.772500    86.000000     9.935525e+04      38206.50  \n",
       "max         12307.160000   116.000000     2.200000e+06           inf  "
      ]
     },
     "execution_count": 5,
     "metadata": {},
     "output_type": "execute_result"
    }
   ],
   "source": [
    "Data.describe()"
   ]
  },
  {
   "cell_type": "markdown",
   "id": "8146f639",
   "metadata": {},
   "source": [
    "check number of infinite values in FloorUnit"
   ]
  },
  {
   "cell_type": "code",
   "execution_count": 6,
   "id": "e0dc11a0",
   "metadata": {},
   "outputs": [
    {
     "data": {
      "text/plain": [
       "10"
      ]
     },
     "execution_count": 6,
     "metadata": {},
     "output_type": "execute_result"
    }
   ],
   "source": [
    "len(Data[Data.AreaPerFloor == np.inf])"
   ]
  },
  {
   "cell_type": "markdown",
   "id": "ef106601",
   "metadata": {},
   "source": [
    "There are 10 infinite values in FloorUnit"
   ]
  },
  {
   "cell_type": "markdown",
   "id": "054fcedd",
   "metadata": {},
   "source": [
    " - Correct infinity values in AreaPerFloor feature"
   ]
  },
  {
   "cell_type": "code",
   "execution_count": 7,
   "id": "7f4b5a93",
   "metadata": {},
   "outputs": [
    {
     "data": {
      "text/html": [
       "<div>\n",
       "<style scoped>\n",
       "    .dataframe tbody tr th:only-of-type {\n",
       "        vertical-align: middle;\n",
       "    }\n",
       "\n",
       "    .dataframe tbody tr th {\n",
       "        vertical-align: top;\n",
       "    }\n",
       "\n",
       "    .dataframe thead th {\n",
       "        text-align: right;\n",
       "    }\n",
       "</style>\n",
       "<table border=\"1\" class=\"dataframe\">\n",
       "  <thead>\n",
       "    <tr style=\"text-align: right;\">\n",
       "      <th></th>\n",
       "      <th>BuildingType</th>\n",
       "      <th>Neighborhood</th>\n",
       "      <th>PrimaryPropertyType</th>\n",
       "      <th>LargestPropertyUseType</th>\n",
       "      <th>SecondLargestPropertyUseType</th>\n",
       "      <th>ThirdLargestPropertyUseType</th>\n",
       "      <th>NumberofBuildings</th>\n",
       "      <th>NumberofFloors</th>\n",
       "      <th>PropertyGFAParking</th>\n",
       "      <th>LargestPropertyUseTypeGFA</th>\n",
       "      <th>SecondLargestPropertyUseTypeGFA</th>\n",
       "      <th>ThirdLargestPropertyUseTypeGFA</th>\n",
       "      <th>ENERGYSTARScore</th>\n",
       "      <th>SiteEnergyUse(kBtu)</th>\n",
       "      <th>TotalGHGEmissions</th>\n",
       "      <th>BuildingAge</th>\n",
       "      <th>AreaPerBuilding</th>\n",
       "      <th>AreaPerFloor</th>\n",
       "    </tr>\n",
       "  </thead>\n",
       "  <tbody>\n",
       "    <tr>\n",
       "      <th>146</th>\n",
       "      <td>NonResidential</td>\n",
       "      <td>Downtown</td>\n",
       "      <td>Hotel</td>\n",
       "      <td>Hotel</td>\n",
       "      <td>Parking</td>\n",
       "      <td>Restaurant</td>\n",
       "      <td>1.0</td>\n",
       "      <td>0</td>\n",
       "      <td>0</td>\n",
       "      <td>495536.0</td>\n",
       "      <td>438756.0</td>\n",
       "      <td>49700.0</td>\n",
       "      <td>NaN</td>\n",
       "      <td>65047284.00</td>\n",
       "      <td>1638.46</td>\n",
       "      <td>17</td>\n",
       "      <td>934292.0</td>\n",
       "      <td>inf</td>\n",
       "    </tr>\n",
       "    <tr>\n",
       "      <th>441</th>\n",
       "      <td>NonResidential</td>\n",
       "      <td>East</td>\n",
       "      <td>Medical Office</td>\n",
       "      <td>Medical Office</td>\n",
       "      <td>None</td>\n",
       "      <td>None</td>\n",
       "      <td>1.0</td>\n",
       "      <td>0</td>\n",
       "      <td>0</td>\n",
       "      <td>200184.0</td>\n",
       "      <td>0.0</td>\n",
       "      <td>0.0</td>\n",
       "      <td>53.0</td>\n",
       "      <td>20560622.00</td>\n",
       "      <td>692.12</td>\n",
       "      <td>12</td>\n",
       "      <td>225982.0</td>\n",
       "      <td>inf</td>\n",
       "    </tr>\n",
       "    <tr>\n",
       "      <th>511</th>\n",
       "      <td>NonResidential</td>\n",
       "      <td>Downtown</td>\n",
       "      <td>Other</td>\n",
       "      <td>Mall</td>\n",
       "      <td>Entertainment/Public Assembly</td>\n",
       "      <td>Restaurant</td>\n",
       "      <td>1.0</td>\n",
       "      <td>0</td>\n",
       "      <td>0</td>\n",
       "      <td>561684.0</td>\n",
       "      <td>100000.0</td>\n",
       "      <td>80000.0</td>\n",
       "      <td>NaN</td>\n",
       "      <td>46510960.00</td>\n",
       "      <td>324.25</td>\n",
       "      <td>17</td>\n",
       "      <td>947987.0</td>\n",
       "      <td>inf</td>\n",
       "    </tr>\n",
       "    <tr>\n",
       "      <th>996</th>\n",
       "      <td>NonResidential</td>\n",
       "      <td>East</td>\n",
       "      <td>Medical Office</td>\n",
       "      <td>Medical Office</td>\n",
       "      <td>Parking</td>\n",
       "      <td>None</td>\n",
       "      <td>1.0</td>\n",
       "      <td>0</td>\n",
       "      <td>0</td>\n",
       "      <td>228133.0</td>\n",
       "      <td>135954.0</td>\n",
       "      <td>0.0</td>\n",
       "      <td>52.0</td>\n",
       "      <td>25311526.00</td>\n",
       "      <td>1110.07</td>\n",
       "      <td>71</td>\n",
       "      <td>274568.0</td>\n",
       "      <td>inf</td>\n",
       "    </tr>\n",
       "    <tr>\n",
       "      <th>1079</th>\n",
       "      <td>Campus</td>\n",
       "      <td>Greater Duwamish</td>\n",
       "      <td>Other</td>\n",
       "      <td>Other</td>\n",
       "      <td>Parking</td>\n",
       "      <td>None</td>\n",
       "      <td>10.0</td>\n",
       "      <td>0</td>\n",
       "      <td>0</td>\n",
       "      <td>230970.0</td>\n",
       "      <td>0.0</td>\n",
       "      <td>0.0</td>\n",
       "      <td>NaN</td>\n",
       "      <td>21022288.00</td>\n",
       "      <td>405.05</td>\n",
       "      <td>25</td>\n",
       "      <td>23097.0</td>\n",
       "      <td>inf</td>\n",
       "    </tr>\n",
       "    <tr>\n",
       "      <th>1446</th>\n",
       "      <td>NonResidential</td>\n",
       "      <td>Northeast</td>\n",
       "      <td>Warehouse</td>\n",
       "      <td>Non-Refrigerated Warehouse</td>\n",
       "      <td>Office</td>\n",
       "      <td>None</td>\n",
       "      <td>1.0</td>\n",
       "      <td>0</td>\n",
       "      <td>0</td>\n",
       "      <td>349953.0</td>\n",
       "      <td>63872.0</td>\n",
       "      <td>0.0</td>\n",
       "      <td>69.0</td>\n",
       "      <td>15206762.00</td>\n",
       "      <td>391.70</td>\n",
       "      <td>76</td>\n",
       "      <td>384772.0</td>\n",
       "      <td>inf</td>\n",
       "    </tr>\n",
       "    <tr>\n",
       "      <th>1447</th>\n",
       "      <td>NonResidential</td>\n",
       "      <td>Northeast</td>\n",
       "      <td>Medical Office</td>\n",
       "      <td>Medical Office</td>\n",
       "      <td>None</td>\n",
       "      <td>None</td>\n",
       "      <td>1.0</td>\n",
       "      <td>0</td>\n",
       "      <td>0</td>\n",
       "      <td>28050.0</td>\n",
       "      <td>0.0</td>\n",
       "      <td>0.0</td>\n",
       "      <td>32.0</td>\n",
       "      <td>2193115.00</td>\n",
       "      <td>32.72</td>\n",
       "      <td>56</td>\n",
       "      <td>30287.0</td>\n",
       "      <td>inf</td>\n",
       "    </tr>\n",
       "    <tr>\n",
       "      <th>1448</th>\n",
       "      <td>NonResidential</td>\n",
       "      <td>Northeast</td>\n",
       "      <td>Small- and Mid-Sized Office</td>\n",
       "      <td>Office</td>\n",
       "      <td>Office</td>\n",
       "      <td>None</td>\n",
       "      <td>1.0</td>\n",
       "      <td>0</td>\n",
       "      <td>0</td>\n",
       "      <td>31845.0</td>\n",
       "      <td>31845.0</td>\n",
       "      <td>0.0</td>\n",
       "      <td>32.0</td>\n",
       "      <td>3947209.25</td>\n",
       "      <td>145.11</td>\n",
       "      <td>56</td>\n",
       "      <td>21931.0</td>\n",
       "      <td>inf</td>\n",
       "    </tr>\n",
       "    <tr>\n",
       "      <th>1461</th>\n",
       "      <td>Nonresidential COS</td>\n",
       "      <td>Northeast</td>\n",
       "      <td>Other</td>\n",
       "      <td>Recreation</td>\n",
       "      <td>None</td>\n",
       "      <td>None</td>\n",
       "      <td>8.0</td>\n",
       "      <td>0</td>\n",
       "      <td>0</td>\n",
       "      <td>564258.0</td>\n",
       "      <td>0.0</td>\n",
       "      <td>0.0</td>\n",
       "      <td>NaN</td>\n",
       "      <td>18470340.00</td>\n",
       "      <td>549.11</td>\n",
       "      <td>87</td>\n",
       "      <td>62754.0</td>\n",
       "      <td>inf</td>\n",
       "    </tr>\n",
       "    <tr>\n",
       "      <th>1490</th>\n",
       "      <td>NonResidential</td>\n",
       "      <td>Southeast</td>\n",
       "      <td>Other</td>\n",
       "      <td>Pre-school/Daycare</td>\n",
       "      <td>None</td>\n",
       "      <td>None</td>\n",
       "      <td>1.0</td>\n",
       "      <td>0</td>\n",
       "      <td>0</td>\n",
       "      <td>40265.0</td>\n",
       "      <td>0.0</td>\n",
       "      <td>0.0</td>\n",
       "      <td>NaN</td>\n",
       "      <td>2159170.25</td>\n",
       "      <td>51.39</td>\n",
       "      <td>7</td>\n",
       "      <td>40265.0</td>\n",
       "      <td>inf</td>\n",
       "    </tr>\n",
       "  </tbody>\n",
       "</table>\n",
       "</div>"
      ],
      "text/plain": [
       "            BuildingType      Neighborhood          PrimaryPropertyType  \\\n",
       "146       NonResidential          Downtown                        Hotel   \n",
       "441       NonResidential              East               Medical Office   \n",
       "511       NonResidential          Downtown                        Other   \n",
       "996       NonResidential              East               Medical Office   \n",
       "1079              Campus  Greater Duwamish                        Other   \n",
       "1446      NonResidential         Northeast                    Warehouse   \n",
       "1447      NonResidential         Northeast               Medical Office   \n",
       "1448      NonResidential         Northeast  Small- and Mid-Sized Office   \n",
       "1461  Nonresidential COS         Northeast                        Other   \n",
       "1490      NonResidential         Southeast                        Other   \n",
       "\n",
       "          LargestPropertyUseType   SecondLargestPropertyUseType  \\\n",
       "146                        Hotel                        Parking   \n",
       "441               Medical Office                           None   \n",
       "511                         Mall  Entertainment/Public Assembly   \n",
       "996               Medical Office                        Parking   \n",
       "1079                       Other                        Parking   \n",
       "1446  Non-Refrigerated Warehouse                         Office   \n",
       "1447              Medical Office                           None   \n",
       "1448                      Office                         Office   \n",
       "1461                  Recreation                           None   \n",
       "1490          Pre-school/Daycare                           None   \n",
       "\n",
       "     ThirdLargestPropertyUseType  NumberofBuildings  NumberofFloors  \\\n",
       "146                   Restaurant                1.0               0   \n",
       "441                         None                1.0               0   \n",
       "511                   Restaurant                1.0               0   \n",
       "996                         None                1.0               0   \n",
       "1079                        None               10.0               0   \n",
       "1446                        None                1.0               0   \n",
       "1447                        None                1.0               0   \n",
       "1448                        None                1.0               0   \n",
       "1461                        None                8.0               0   \n",
       "1490                        None                1.0               0   \n",
       "\n",
       "      PropertyGFAParking  LargestPropertyUseTypeGFA  \\\n",
       "146                    0                   495536.0   \n",
       "441                    0                   200184.0   \n",
       "511                    0                   561684.0   \n",
       "996                    0                   228133.0   \n",
       "1079                   0                   230970.0   \n",
       "1446                   0                   349953.0   \n",
       "1447                   0                    28050.0   \n",
       "1448                   0                    31845.0   \n",
       "1461                   0                   564258.0   \n",
       "1490                   0                    40265.0   \n",
       "\n",
       "      SecondLargestPropertyUseTypeGFA  ThirdLargestPropertyUseTypeGFA  \\\n",
       "146                          438756.0                         49700.0   \n",
       "441                               0.0                             0.0   \n",
       "511                          100000.0                         80000.0   \n",
       "996                          135954.0                             0.0   \n",
       "1079                              0.0                             0.0   \n",
       "1446                          63872.0                             0.0   \n",
       "1447                              0.0                             0.0   \n",
       "1448                          31845.0                             0.0   \n",
       "1461                              0.0                             0.0   \n",
       "1490                              0.0                             0.0   \n",
       "\n",
       "      ENERGYSTARScore  SiteEnergyUse(kBtu)  TotalGHGEmissions  BuildingAge  \\\n",
       "146               NaN          65047284.00            1638.46           17   \n",
       "441              53.0          20560622.00             692.12           12   \n",
       "511               NaN          46510960.00             324.25           17   \n",
       "996              52.0          25311526.00            1110.07           71   \n",
       "1079              NaN          21022288.00             405.05           25   \n",
       "1446             69.0          15206762.00             391.70           76   \n",
       "1447             32.0           2193115.00              32.72           56   \n",
       "1448             32.0           3947209.25             145.11           56   \n",
       "1461              NaN          18470340.00             549.11           87   \n",
       "1490              NaN           2159170.25              51.39            7   \n",
       "\n",
       "      AreaPerBuilding  AreaPerFloor  \n",
       "146          934292.0           inf  \n",
       "441          225982.0           inf  \n",
       "511          947987.0           inf  \n",
       "996          274568.0           inf  \n",
       "1079          23097.0           inf  \n",
       "1446         384772.0           inf  \n",
       "1447          30287.0           inf  \n",
       "1448          21931.0           inf  \n",
       "1461          62754.0           inf  \n",
       "1490          40265.0           inf  "
      ]
     },
     "execution_count": 7,
     "metadata": {},
     "output_type": "execute_result"
    }
   ],
   "source": [
    "Data[Data.AreaPerFloor == np.inf]"
   ]
  },
  {
   "cell_type": "code",
   "execution_count": 8,
   "id": "e5229f46",
   "metadata": {},
   "outputs": [],
   "source": [
    "inf = Data.loc[Data['AreaPerFloor'] == np.inf,'AreaPerFloor'].tolist()\n",
    "\n",
    "Data.replace(inf, 0, inplace = True)"
   ]
  },
  {
   "cell_type": "code",
   "execution_count": 9,
   "id": "a43489e2",
   "metadata": {},
   "outputs": [
    {
     "data": {
      "text/html": [
       "<div>\n",
       "<style scoped>\n",
       "    .dataframe tbody tr th:only-of-type {\n",
       "        vertical-align: middle;\n",
       "    }\n",
       "\n",
       "    .dataframe tbody tr th {\n",
       "        vertical-align: top;\n",
       "    }\n",
       "\n",
       "    .dataframe thead th {\n",
       "        text-align: right;\n",
       "    }\n",
       "</style>\n",
       "<table border=\"1\" class=\"dataframe\">\n",
       "  <thead>\n",
       "    <tr style=\"text-align: right;\">\n",
       "      <th></th>\n",
       "      <th>NumberofBuildings</th>\n",
       "      <th>NumberofFloors</th>\n",
       "      <th>PropertyGFAParking</th>\n",
       "      <th>LargestPropertyUseTypeGFA</th>\n",
       "      <th>SecondLargestPropertyUseTypeGFA</th>\n",
       "      <th>ThirdLargestPropertyUseTypeGFA</th>\n",
       "      <th>ENERGYSTARScore</th>\n",
       "      <th>SiteEnergyUse(kBtu)</th>\n",
       "      <th>TotalGHGEmissions</th>\n",
       "      <th>BuildingAge</th>\n",
       "      <th>AreaPerBuilding</th>\n",
       "      <th>AreaPerFloor</th>\n",
       "    </tr>\n",
       "  </thead>\n",
       "  <tbody>\n",
       "    <tr>\n",
       "      <th>count</th>\n",
       "      <td>1522.000000</td>\n",
       "      <td>1522.000000</td>\n",
       "      <td>1522.000000</td>\n",
       "      <td>1.522000e+03</td>\n",
       "      <td>1522.000000</td>\n",
       "      <td>1522.000000</td>\n",
       "      <td>1019.000000</td>\n",
       "      <td>1.522000e+03</td>\n",
       "      <td>1522.000000</td>\n",
       "      <td>1522.000000</td>\n",
       "      <td>1.522000e+03</td>\n",
       "      <td>1.522000e+03</td>\n",
       "    </tr>\n",
       "    <tr>\n",
       "      <th>mean</th>\n",
       "      <td>1.143233</td>\n",
       "      <td>4.124836</td>\n",
       "      <td>13266.474376</td>\n",
       "      <td>9.272740e+04</td>\n",
       "      <td>18337.777462</td>\n",
       "      <td>2655.924046</td>\n",
       "      <td>65.842002</td>\n",
       "      <td>7.714137e+06</td>\n",
       "      <td>167.832799</td>\n",
       "      <td>54.363995</td>\n",
       "      <td>1.065581e+05</td>\n",
       "      <td>3.390694e+04</td>\n",
       "    </tr>\n",
       "    <tr>\n",
       "      <th>std</th>\n",
       "      <td>1.190245</td>\n",
       "      <td>6.705816</td>\n",
       "      <td>43347.929125</td>\n",
       "      <td>1.594783e+05</td>\n",
       "      <td>48447.958911</td>\n",
       "      <td>12790.286588</td>\n",
       "      <td>28.320464</td>\n",
       "      <td>1.919568e+07</td>\n",
       "      <td>590.624890</td>\n",
       "      <td>32.589011</td>\n",
       "      <td>1.829735e+05</td>\n",
       "      <td>4.838940e+04</td>\n",
       "    </tr>\n",
       "    <tr>\n",
       "      <th>min</th>\n",
       "      <td>1.000000</td>\n",
       "      <td>0.000000</td>\n",
       "      <td>0.000000</td>\n",
       "      <td>5.656000e+03</td>\n",
       "      <td>0.000000</td>\n",
       "      <td>0.000000</td>\n",
       "      <td>1.000000</td>\n",
       "      <td>1.680890e+04</td>\n",
       "      <td>-0.800000</td>\n",
       "      <td>1.000000</td>\n",
       "      <td>4.300000e+03</td>\n",
       "      <td>0.000000e+00</td>\n",
       "    </tr>\n",
       "    <tr>\n",
       "      <th>25%</th>\n",
       "      <td>1.000000</td>\n",
       "      <td>1.000000</td>\n",
       "      <td>0.000000</td>\n",
       "      <td>2.550525e+04</td>\n",
       "      <td>0.000000</td>\n",
       "      <td>0.000000</td>\n",
       "      <td>49.000000</td>\n",
       "      <td>1.229609e+06</td>\n",
       "      <td>19.740000</td>\n",
       "      <td>27.000000</td>\n",
       "      <td>2.862400e+04</td>\n",
       "      <td>1.331100e+04</td>\n",
       "    </tr>\n",
       "    <tr>\n",
       "      <th>50%</th>\n",
       "      <td>1.000000</td>\n",
       "      <td>2.000000</td>\n",
       "      <td>0.000000</td>\n",
       "      <td>4.316100e+04</td>\n",
       "      <td>0.000000</td>\n",
       "      <td>0.000000</td>\n",
       "      <td>74.000000</td>\n",
       "      <td>2.522356e+06</td>\n",
       "      <td>48.705000</td>\n",
       "      <td>51.000000</td>\n",
       "      <td>4.679850e+04</td>\n",
       "      <td>2.295600e+04</td>\n",
       "    </tr>\n",
       "    <tr>\n",
       "      <th>75%</th>\n",
       "      <td>1.000000</td>\n",
       "      <td>4.000000</td>\n",
       "      <td>0.000000</td>\n",
       "      <td>8.978975e+04</td>\n",
       "      <td>12914.750000</td>\n",
       "      <td>0.000000</td>\n",
       "      <td>89.000000</td>\n",
       "      <td>6.913348e+06</td>\n",
       "      <td>134.772500</td>\n",
       "      <td>86.000000</td>\n",
       "      <td>9.935525e+04</td>\n",
       "      <td>3.784850e+04</td>\n",
       "    </tr>\n",
       "    <tr>\n",
       "      <th>max</th>\n",
       "      <td>27.000000</td>\n",
       "      <td>99.000000</td>\n",
       "      <td>512608.000000</td>\n",
       "      <td>1.719643e+06</td>\n",
       "      <td>441551.000000</td>\n",
       "      <td>303910.000000</td>\n",
       "      <td>100.000000</td>\n",
       "      <td>2.930908e+08</td>\n",
       "      <td>12307.160000</td>\n",
       "      <td>116.000000</td>\n",
       "      <td>2.200000e+06</td>\n",
       "      <td>1.100000e+06</td>\n",
       "    </tr>\n",
       "  </tbody>\n",
       "</table>\n",
       "</div>"
      ],
      "text/plain": [
       "       NumberofBuildings  NumberofFloors  PropertyGFAParking  \\\n",
       "count        1522.000000     1522.000000         1522.000000   \n",
       "mean            1.143233        4.124836        13266.474376   \n",
       "std             1.190245        6.705816        43347.929125   \n",
       "min             1.000000        0.000000            0.000000   \n",
       "25%             1.000000        1.000000            0.000000   \n",
       "50%             1.000000        2.000000            0.000000   \n",
       "75%             1.000000        4.000000            0.000000   \n",
       "max            27.000000       99.000000       512608.000000   \n",
       "\n",
       "       LargestPropertyUseTypeGFA  SecondLargestPropertyUseTypeGFA  \\\n",
       "count               1.522000e+03                      1522.000000   \n",
       "mean                9.272740e+04                     18337.777462   \n",
       "std                 1.594783e+05                     48447.958911   \n",
       "min                 5.656000e+03                         0.000000   \n",
       "25%                 2.550525e+04                         0.000000   \n",
       "50%                 4.316100e+04                         0.000000   \n",
       "75%                 8.978975e+04                     12914.750000   \n",
       "max                 1.719643e+06                    441551.000000   \n",
       "\n",
       "       ThirdLargestPropertyUseTypeGFA  ENERGYSTARScore  SiteEnergyUse(kBtu)  \\\n",
       "count                     1522.000000      1019.000000         1.522000e+03   \n",
       "mean                      2655.924046        65.842002         7.714137e+06   \n",
       "std                      12790.286588        28.320464         1.919568e+07   \n",
       "min                          0.000000         1.000000         1.680890e+04   \n",
       "25%                          0.000000        49.000000         1.229609e+06   \n",
       "50%                          0.000000        74.000000         2.522356e+06   \n",
       "75%                          0.000000        89.000000         6.913348e+06   \n",
       "max                     303910.000000       100.000000         2.930908e+08   \n",
       "\n",
       "       TotalGHGEmissions  BuildingAge  AreaPerBuilding  AreaPerFloor  \n",
       "count        1522.000000  1522.000000     1.522000e+03  1.522000e+03  \n",
       "mean          167.832799    54.363995     1.065581e+05  3.390694e+04  \n",
       "std           590.624890    32.589011     1.829735e+05  4.838940e+04  \n",
       "min            -0.800000     1.000000     4.300000e+03  0.000000e+00  \n",
       "25%            19.740000    27.000000     2.862400e+04  1.331100e+04  \n",
       "50%            48.705000    51.000000     4.679850e+04  2.295600e+04  \n",
       "75%           134.772500    86.000000     9.935525e+04  3.784850e+04  \n",
       "max         12307.160000   116.000000     2.200000e+06  1.100000e+06  "
      ]
     },
     "execution_count": 9,
     "metadata": {},
     "output_type": "execute_result"
    }
   ],
   "source": [
    "# verify the correction\n",
    "Data.describe()"
   ]
  },
  {
   "cell_type": "markdown",
   "id": "9a27096f",
   "metadata": {},
   "source": [
    "### 2.0 Feature selection"
   ]
  },
  {
   "cell_type": "code",
   "execution_count": 10,
   "id": "947e7361",
   "metadata": {},
   "outputs": [],
   "source": [
    "categorical_features = Data.select_dtypes(include = 'object')\n",
    "numerical_features = Data.select_dtypes(include = ['float', 'int']) #Data.select_dtypes(exclude = 'object')"
   ]
  },
  {
   "cell_type": "code",
   "execution_count": 11,
   "id": "c38604af",
   "metadata": {},
   "outputs": [
    {
     "data": {
      "text/plain": [
       "BuildingType                     5\n",
       "Neighborhood                    14\n",
       "PrimaryPropertyType             19\n",
       "LargestPropertyUseType          47\n",
       "SecondLargestPropertyUseType    48\n",
       "ThirdLargestPropertyUseType     37\n",
       "dtype: int64"
      ]
     },
     "execution_count": 11,
     "metadata": {},
     "output_type": "execute_result"
    }
   ],
   "source": [
    "categorical_features.nunique()"
   ]
  },
  {
   "cell_type": "code",
   "execution_count": 12,
   "id": "acd93195",
   "metadata": {},
   "outputs": [
    {
     "data": {
      "text/plain": [
       "['NumberofBuildings',\n",
       " 'NumberofFloors',\n",
       " 'PropertyGFAParking',\n",
       " 'LargestPropertyUseTypeGFA',\n",
       " 'SecondLargestPropertyUseTypeGFA',\n",
       " 'ThirdLargestPropertyUseTypeGFA',\n",
       " 'ENERGYSTARScore',\n",
       " 'SiteEnergyUse(kBtu)',\n",
       " 'TotalGHGEmissions',\n",
       " 'BuildingAge',\n",
       " 'AreaPerBuilding',\n",
       " 'AreaPerFloor']"
      ]
     },
     "execution_count": 12,
     "metadata": {},
     "output_type": "execute_result"
    }
   ],
   "source": [
    "list(numerical_features.columns)"
   ]
  },
  {
   "cell_type": "markdown",
   "id": "22c80036",
   "metadata": {},
   "source": [
    " - selected features"
   ]
  },
  {
   "cell_type": "code",
   "execution_count": 13,
   "id": "13cd3ad2",
   "metadata": {},
   "outputs": [],
   "source": [
    "# Categorical features\n",
    "Cat_Feat = categorical_features.drop('ThirdLargestPropertyUseType', axis = 1)\n",
    "\n",
    "# Numerical features\n",
    "Num_Feat= numerical_features.drop(['ENERGYSTARScore','TotalGHGEmissions'], axis = 1)\n",
    "\n",
    "# create new data frame of the selected features for energy prediction\n",
    "Data_Energy = pd.concat([Cat_Feat, Num_Feat], axis = 1)"
   ]
  },
  {
   "cell_type": "markdown",
   "id": "305af74d",
   "metadata": {},
   "source": [
    "- Evaluate correlation coefficient amongst numerical variables"
   ]
  },
  {
   "cell_type": "code",
   "execution_count": 14,
   "id": "921cdad8",
   "metadata": {},
   "outputs": [
    {
     "data": {
      "image/png": "[encoded data removed]",
      "text/plain": [
       "<Figure size 864x576 with 2 Axes>"
      ]
     },
     "metadata": {
      "needs_background": "light"
     },
     "output_type": "display_data"
    }
   ],
   "source": [
    "plt.figure(figsize=(12, 8))\n",
    "sns.heatmap(Num_Feat.corr(), fmt='.2f', center=0, cmap='RdYlGn', vmin=-1, vmax=1, annot=True, linewidths=.5)\n",
    "plt.title('Correlation Heat Map')\n",
    "plt.show()"
   ]
  },
  {
   "cell_type": "markdown",
   "id": "71a8fbdb",
   "metadata": {},
   "source": [
    " - Using a threshold of 0.7, there is no strong correlation amongst most of the numerical input features except between AreaPerBuilding and Largest and SecondLargestproperties. Therefore, AreaPerBuilding is dropped to avoid multicollinearity."
   ]
  },
  {
   "cell_type": "code",
   "execution_count": 15,
   "id": "96035258",
   "metadata": {},
   "outputs": [],
   "source": [
    "Data_Energy.drop('AreaPerBuilding', axis = 1, inplace = True)"
   ]
  },
  {
   "cell_type": "markdown",
   "id": "1e188880",
   "metadata": {},
   "source": [
    "### 3.0 Modelings"
   ]
  },
  {
   "cell_type": "markdown",
   "id": "51161a43",
   "metadata": {},
   "source": [
    "### 3.1 Baseline models\n",
    "   - Dummy regressor\n",
    "   - Linear regression"
   ]
  },
  {
   "cell_type": "markdown",
   "id": "2a02b30d",
   "metadata": {},
   "source": [
    "##### 3.1.1 Pre-processing"
   ]
  },
  {
   "cell_type": "markdown",
   "id": "4957fd7f",
   "metadata": {},
   "source": [
    "- Set up train-test split"
   ]
  },
  {
   "cell_type": "code",
   "execution_count": 16,
   "id": "d16d0a71",
   "metadata": {},
   "outputs": [],
   "source": [
    "# Define the input (X) and target (y) features\n",
    "X = Data_Energy.drop('SiteEnergyUse(kBtu)', axis = 1)\n",
    "y = Data_Energy['SiteEnergyUse(kBtu)']"
   ]
  },
  {
   "cell_type": "code",
   "execution_count": 17,
   "id": "43cca270",
   "metadata": {},
   "outputs": [],
   "source": [
    "# Split data to 70% training and 30% test sets \n",
    "from sklearn.model_selection import train_test_split\n",
    "\n",
    "X_train, X_test, y_train, y_test = train_test_split(X, y, test_size=0.30, random_state=0)"
   ]
  },
  {
   "cell_type": "code",
   "execution_count": 18,
   "id": "664b6bd1",
   "metadata": {},
   "outputs": [
    {
     "name": "stdout",
     "output_type": "stream",
     "text": [
      "(1065, 13) (457, 13) (1065,) (457,)\n"
     ]
    }
   ],
   "source": [
    "#Check shape of splitted data\n",
    "print(X_train.shape, X_test.shape, y_train.shape, y_test.shape)"
   ]
  },
  {
   "cell_type": "code",
   "execution_count": 19,
   "id": "ac124395",
   "metadata": {},
   "outputs": [],
   "source": [
    "Num_feat = ['NumberofBuildings', 'NumberofFloors', 'PropertyGFAParking','LargestPropertyUseTypeGFA', \n",
    "            'SecondLargestPropertyUseTypeGFA', 'ThirdLargestPropertyUseTypeGFA', 'BuildingAge','AreaPerFloor']\n",
    "Cat_feat = Cat_Feat.columns.tolist()"
   ]
  },
  {
   "cell_type": "code",
   "execution_count": 20,
   "id": "7f5d38ce",
   "metadata": {},
   "outputs": [],
   "source": [
    "# Standardize/scale the features and define the pipeline pre-preprocessor\n",
    "\n",
    "from sklearn import preprocessing\n",
    "from sklearn.preprocessing import StandardScaler, OneHotEncoder, RobustScaler\n",
    "from sklearn.compose import ColumnTransformer\n",
    "from sklearn.pipeline import Pipeline\n",
    "from sklearn.dummy import DummyRegressor\n",
    "from sklearn.linear_model import LinearRegression\n",
    "from sklearn.metrics import mean_squared_error, r2_score, median_absolute_error, mean_absolute_percentage_error\n",
    "from math import sqrt\n",
    "import time\n",
    "import warnings\n",
    "warnings.filterwarnings('ignore')\n",
    "\n",
    "def pipeline_Base(Base):\n",
    "    #Preprocessing for numerical data\n",
    "    numeric_transformer = Pipeline([('scaler', RobustScaler())])\n",
    "\n",
    "    # Encode categorical data with OneHotEncoder\n",
    "    categorical_transformer = Pipeline([('scaler', OneHotEncoder(handle_unknown=\"ignore\"))])\n",
    "\n",
    "    # Combine preprocessing for numerical and categorical data - transformation\n",
    "    preprocessor = ColumnTransformer(transformers=[(\"num\", numeric_transformer, Num_feat),\n",
    "    (\"cat\", categorical_transformer, Cat_feat)])\n",
    "    \n",
    "    # Bundle preprocessing and modeling code in a pipeline\n",
    "    Base_pipe = Pipeline([(\"preprocessor\", preprocessor), (\"regressor\", Base)])\n",
    "    return Base_pipe"
   ]
  },
  {
   "cell_type": "markdown",
   "id": "cc780b3b",
   "metadata": {},
   "source": [
    "##### 3.1.2 Create the baseline models and evaluate their perfomance metrics"
   ]
  },
  {
   "cell_type": "code",
   "execution_count": 21,
   "id": "a1485db8",
   "metadata": {},
   "outputs": [
    {
     "data": {
      "text/html": [
       "<div>\n",
       "<style scoped>\n",
       "    .dataframe tbody tr th:only-of-type {\n",
       "        vertical-align: middle;\n",
       "    }\n",
       "\n",
       "    .dataframe tbody tr th {\n",
       "        vertical-align: top;\n",
       "    }\n",
       "\n",
       "    .dataframe thead th {\n",
       "        text-align: right;\n",
       "    }\n",
       "</style>\n",
       "<table border=\"1\" class=\"dataframe\">\n",
       "  <thead>\n",
       "    <tr style=\"text-align: right;\">\n",
       "      <th></th>\n",
       "      <th>Model_Test</th>\n",
       "      <th>MSE</th>\n",
       "      <th>MAE</th>\n",
       "      <th>RMSE</th>\n",
       "      <th>R2_Test</th>\n",
       "      <th>R2_Train</th>\n",
       "      <th>Training time (mins)</th>\n",
       "    </tr>\n",
       "  </thead>\n",
       "  <tbody>\n",
       "    <tr>\n",
       "      <th>0</th>\n",
       "      <td>Dummy</td>\n",
       "      <td>3.572940e+14</td>\n",
       "      <td>5.907257e+06</td>\n",
       "      <td>1.890222e+07</td>\n",
       "      <td>-0.000938</td>\n",
       "      <td>0.000000</td>\n",
       "      <td>0.0</td>\n",
       "    </tr>\n",
       "    <tr>\n",
       "      <th>1</th>\n",
       "      <td>LinearRegression</td>\n",
       "      <td>1.878460e+14</td>\n",
       "      <td>2.056512e+06</td>\n",
       "      <td>1.370569e+07</td>\n",
       "      <td>0.473760</td>\n",
       "      <td>0.831792</td>\n",
       "      <td>0.0</td>\n",
       "    </tr>\n",
       "  </tbody>\n",
       "</table>\n",
       "</div>"
      ],
      "text/plain": [
       "         Model_Test           MSE           MAE          RMSE   R2_Test  \\\n",
       "0             Dummy  3.572940e+14  5.907257e+06  1.890222e+07 -0.000938   \n",
       "1  LinearRegression  1.878460e+14  2.056512e+06  1.370569e+07  0.473760   \n",
       "\n",
       "   R2_Train  Training time (mins)  \n",
       "0  0.000000                   0.0  \n",
       "1  0.831792                   0.0  "
      ]
     },
     "execution_count": 21,
     "metadata": {},
     "output_type": "execute_result"
    }
   ],
   "source": [
    "i=0\n",
    "\n",
    "# create dictionary of the baseline models\n",
    "Baseline = {\"Dummy\" : pipeline_Base(DummyRegressor(strategy = \"mean\")),\n",
    "           \"LinearRegression\" : pipeline_Base(LinearRegression())}\n",
    "\n",
    "# Create DataFrame for metric results\n",
    "Base_Test_M = pd.DataFrame({\n",
    "                    'Model_Test':Baseline.keys(),\n",
    "                    'MSE' : np.zeros(len(Baseline)),\n",
    "                    'MAE': np.zeros(len(Baseline)),\n",
    "                    'RMSE': np.zeros(len(Baseline)),\n",
    "                    'R2_Test': np.zeros(len(Baseline)),\n",
    "                    'R2_Train': np.zeros(len(Baseline)),\n",
    "                    #'R2_Test': np.zeros(len(Baseline)),\n",
    "                    'Training time (mins)': np.zeros(len(Baseline))\n",
    "                    })\n",
    "\n",
    "# Create the baseline models\n",
    "\n",
    "for key, base in Baseline.items():\n",
    "    start = time.time()\n",
    "    reg_base = base.fit(X_train, y_train)\n",
    "        \n",
    "    # evaluation metrics on test sets\n",
    "    \n",
    "    y_test_pred = base.predict(X_test)\n",
    "    y_train_pred = base.predict(X_train)\n",
    "    \n",
    "    # results\n",
    "    Base_Test_M.iloc[i,1] = mean_squared_error(y_test, y_test_pred)\n",
    "    Base_Test_M.iloc[i,2] = median_absolute_error(y_test, y_test_pred)\n",
    "    Base_Test_M.iloc[i,3] = np.sqrt(mean_squared_error(y_test, y_test_pred))\n",
    "    Base_Test_M.iloc[i,4] = r2_score(y_test, y_test_pred)#base.score(X_test, y_test) #r2_score(y_test, y_pred)\n",
    "    Base_Test_M.iloc[i,5] = r2_score(y_train, y_train_pred)\n",
    "    #Base_Test_M.iloc[i,5] = reg_base.score(X_train, y_train)\n",
    "    #Base_Test_M.iloc[i,6] = reg_base.score(X_test, y_test)\n",
    "          \n",
    "    stop = time.time()\n",
    "    Base_Test_M.iloc[i,6]=np.round((stop - start)/60, 2)\n",
    "   \n",
    "    i+=1\n",
    "    \n",
    "Base_Test_M"
   ]
  },
  {
   "cell_type": "markdown",
   "id": "361790c2",
   "metadata": {},
   "source": [
    "##### 3.1.3 Cross validation of the baseline models "
   ]
  },
  {
   "cell_type": "code",
   "execution_count": 22,
   "id": "74bedd0f",
   "metadata": {},
   "outputs": [
    {
     "data": {
      "text/html": [
       "<div>\n",
       "<style scoped>\n",
       "    .dataframe tbody tr th:only-of-type {\n",
       "        vertical-align: middle;\n",
       "    }\n",
       "\n",
       "    .dataframe tbody tr th {\n",
       "        vertical-align: top;\n",
       "    }\n",
       "\n",
       "    .dataframe thead th {\n",
       "        text-align: right;\n",
       "    }\n",
       "</style>\n",
       "<table border=\"1\" class=\"dataframe\">\n",
       "  <thead>\n",
       "    <tr style=\"text-align: right;\">\n",
       "      <th></th>\n",
       "      <th>Model</th>\n",
       "      <th>Mean</th>\n",
       "      <th>Std</th>\n",
       "      <th>Training time (mins)</th>\n",
       "    </tr>\n",
       "  </thead>\n",
       "  <tbody>\n",
       "    <tr>\n",
       "      <th>0</th>\n",
       "      <td>Dummy</td>\n",
       "      <td>-0.020815</td>\n",
       "      <td>0.049428</td>\n",
       "      <td>0.01</td>\n",
       "    </tr>\n",
       "    <tr>\n",
       "      <th>1</th>\n",
       "      <td>LinearRegression</td>\n",
       "      <td>0.552705</td>\n",
       "      <td>0.230909</td>\n",
       "      <td>0.01</td>\n",
       "    </tr>\n",
       "  </tbody>\n",
       "</table>\n",
       "</div>"
      ],
      "text/plain": [
       "              Model      Mean       Std  Training time (mins)\n",
       "0             Dummy -0.020815  0.049428                  0.01\n",
       "1  LinearRegression  0.552705  0.230909                  0.01"
      ]
     },
     "execution_count": 22,
     "metadata": {},
     "output_type": "execute_result"
    }
   ],
   "source": [
    "from sklearn.model_selection import cross_val_score, KFold, StratifiedKFold, cross_validate\n",
    "\n",
    "kfold = KFold(n_splits=10, shuffle=True, random_state=0)\n",
    "\n",
    "i=0\n",
    "\n",
    "#Create result dictionary and dataframe\n",
    "\n",
    "cv_scores = pd.DataFrame({'Model':Baseline.keys(),\n",
    "                          'Mean' : np.zeros(len(Baseline)),\n",
    "                          'Std': np.zeros(len(Baseline)),\n",
    "                         'Training time (mins)': np.zeros(len(Baseline))})\n",
    "\n",
    "#Create the regression models\n",
    "for key, base in Baseline.items():\n",
    "    start = time.time()\n",
    "    #scores = cross_validate(model, X, y, cv=kfold, scoring='r2')\n",
    "    scores = cross_val_score(base, X, y, cv=kfold)\n",
    "        \n",
    "    cv_scores.iloc[i,1] = scores.mean()\n",
    "    cv_scores.iloc[i,2] = scores.std()\n",
    "        \n",
    "    stop = time.time()\n",
    "    cv_scores.iloc[i,3]=np.round((stop - start)/60, 2)\n",
    "   \n",
    "    i+=1\n",
    "    \n",
    "cv_scores"
   ]
  },
  {
   "cell_type": "markdown",
   "id": "be451da8",
   "metadata": {},
   "source": [
    "Narration: \n",
    "- The evaluation metrics (MAE, MSE, RMSE, and R2 scores of the Linear Regression model are better than the Dummy Regressor; hence, it is used as baseline model in subsequent modelings "
   ]
  },
  {
   "cell_type": "markdown",
   "id": "2662d15f",
   "metadata": {},
   "source": [
    "Seven linear (Linear, Ridge, Lasso, and ElasticNet) and non-linear (Random Forest Regression, XGBoost, and KNN) supervised learning regression models are assessed to understand how well they could predict energy consumption. Linear regression is used as the baseline and the metric estimates (R2, MSE, MAE, and RMSE) as the quality measure used to evaluate the perfomance of the models. \n",
    "\n",
    "The datasets are iterated and cross validated three times in different forms, feature engineering (transformations), initial parameters. The iteration and algorithm with best perfomance metrics is chosen for predictions.\n",
    " - Iteration 1 - used the numerical features in their raw forms without any transformation\n",
    " - Iteration 2 - log transformation of the target feature\n",
    " - Iteration 3 - log transformation of all numeric input and target features"
   ]
  },
  {
   "cell_type": "markdown",
   "id": "e596e5f5",
   "metadata": {},
   "source": [
    "### 3.2 Modeling 1"
   ]
  },
  {
   "cell_type": "markdown",
   "id": "2c149b70",
   "metadata": {},
   "source": [
    " - Untransformed input and target features, random state of 0, and K-fold cross validation \n",
    " - Use RobustScaler and OneHotEncoder to scale the numerical and categorical data, respectively. RobustScaler is used to handle the skewness of the numerical features and likely outliers"
   ]
  },
  {
   "cell_type": "code",
   "execution_count": 23,
   "id": "02beca25",
   "metadata": {},
   "outputs": [],
   "source": [
    "# import the models/algorithms\n",
    "\n",
    "from sklearn.linear_model import Ridge, Lasso, ElasticNet\n",
    "from sklearn.neighbors import KNeighborsRegressor\n",
    "from sklearn.ensemble import RandomForestRegressor\n",
    "#from sklearn.svm import SVR\n",
    "#from sklearn.tree import DecisionTreeRegressor\n",
    "from xgboost import XGBRegressor\n",
    "import time\n",
    "import warnings\n",
    "warnings.filterwarnings('ignore')\n",
    "\n",
    "# Design preprocessing pipelines for the algorthims\n",
    "def pipeline(Model):\n",
    "   \n",
    "    # Standardize data and instantiate pipeline\n",
    "    numeric_transformer = Pipeline([('scaler', RobustScaler())]) \n",
    "    categorical_transformer = Pipeline([('scaler', OneHotEncoder(handle_unknown=\"ignore\"))])\n",
    "\n",
    "    model_preprocessor = ColumnTransformer(transformers=[(\"num\", numeric_transformer, Num_feat),\n",
    "        (\"cat\", categorical_transformer, Cat_feat),])\n",
    "    \n",
    "    model_pipe = Pipeline(steps=[(\"preprocessor\", model_preprocessor), (\"regressor\", Model)])\n",
    "    return model_pipe"
   ]
  },
  {
   "cell_type": "markdown",
   "id": "2ce55b24",
   "metadata": {},
   "source": [
    "- Creat dictionaries of the algorithm objects "
   ]
  },
  {
   "cell_type": "code",
   "execution_count": 24,
   "id": "360df94c",
   "metadata": {},
   "outputs": [],
   "source": [
    "# make a dictionary and instantiate the models via pipeline\n",
    "\n",
    "Models = {\"KNN\" : pipeline(KNeighborsRegressor()), \n",
    "        \"LinearRegression\" : pipeline(LinearRegression()),\n",
    "         \"Ridge\" : pipeline(Ridge(alpha = 0.1)),\n",
    "         \"Lasso\" : pipeline(Lasso(alpha = 0.1)),\n",
    "         \"Elastic\" : pipeline(ElasticNet(alpha = 0.1)),\n",
    "         \"RandomForest\" : pipeline(RandomForestRegressor()), \n",
    "         \"XGB\": pipeline(XGBRegressor())}"
   ]
  },
  {
   "cell_type": "markdown",
   "id": "7c230a6b",
   "metadata": {},
   "source": [
    "#### 3.2.1 Hyperparameter optimization and Performance metrics\n",
    "- RandomizedSearchCV is used because of its fast training time over GridSearchCV"
   ]
  },
  {
   "cell_type": "code",
   "execution_count": 25,
   "id": "d2eeae32",
   "metadata": {},
   "outputs": [],
   "source": [
    "# create dictionary of selected models\n",
    "Models_1 = {\"KNN\" : pipeline(KNeighborsRegressor()), \n",
    "        \"LinearRegression\" : pipeline(LinearRegression()),\n",
    "         \"Ridge\" : pipeline(Ridge(alpha = 0.1)),\n",
    "         \"Lasso\" : pipeline(Lasso(alpha = 0.1)),\n",
    "         \"Elastic\" : pipeline(ElasticNet(alpha = 0.1)),\n",
    "         \"RandomForest\" : pipeline(RandomForestRegressor()), \n",
    "         \"XGB\": pipeline(XGBRegressor())\n",
    "           }"
   ]
  },
  {
   "cell_type": "code",
   "execution_count": 26,
   "id": "5e5f3e86",
   "metadata": {},
   "outputs": [],
   "source": [
    "from sklearn.model_selection import GridSearchCV, RandomizedSearchCV\n",
    "\n",
    "# Define grid parameters\n",
    "Lasso_grid = {'regressor__alpha': [0.1,1,5,10,50,100], 'regressor__fit_intercept': [True]}\n",
    "\n",
    "RF_grid = {'regressor__max_features' : ['auto', 'sqrt', 'log2'],\n",
    "           'regressor__n_estimators': [10, 50, 100, 200], \n",
    "           'regressor__max_depth': [5, 15, 25, 50], \n",
    "           'regressor__min_samples_split': [2, 5, 10],\n",
    "           'regressor__min_samples_leaf': [1,2,5,10],\n",
    "           'regressor__bootstrap': [True, False],\n",
    "           'regressor__random_state': [0,50]}\n",
    "\n",
    "Ridge_grid = {'regressor__alpha': [0.1,1,5,10,50,100], 'regressor__normalize': [True],\n",
    "              \"regressor__solver\": ['auto']}\n",
    "LR_grid = {'regressor__fit_intercept': [False]}\n",
    "\n",
    "XGB_grid = {'regressor__max_depth': [3,6,9,12,15], \n",
    "            'regressor__learning_rate': [0.01, 0.05, 0.1, 0.2, 0.3],\n",
    "           'regressor__n_estimators': [50,100,125, 150],\n",
    "            'regressor__gamma': [0, 0.25, 0.5, 1.0],\n",
    "           'regressor__min_child_weight': [1,2,3,5,7,9]}\n",
    "\n",
    "KNN_grid = {'regressor__n_neighbors': [2,3,4,5,6,7,8,9,10], \n",
    "             'regressor__p': [1, 2, 5]}\n",
    "\n",
    "#SVR_grid = {'regressor__C': [0.01, 0.1, 1.0, 10.0], 'regressor__gamma': np.logspace(2, 5),'regressor__kernel': ['linear']}\n",
    "\n",
    "Elastic_grid = {\"regressor__max_iter\": [10, 100, 1000],\n",
    "              \"regressor__alpha\": np.logspace(-4, 0, num=5),\n",
    "              \"regressor__l1_ratio\": np.arange(0.0, 1.1, 0.1)}\n",
    "            \n",
    "parameters = {\"KNN\": KNN_grid, \"Lasso\" : Lasso_grid, \"RandomForest\": RF_grid, \"Ridge\": Ridge_grid, \n",
    "              \"LinearRegression\" : LR_grid, \"Elastic\" : Elastic_grid, \n",
    "              \"XGB\": XGB_grid,# \"SVR\" : SVR_grid, \n",
    "             }"
   ]
  },
  {
   "cell_type": "code",
   "execution_count": 27,
   "id": "c1c7c0ca",
   "metadata": {},
   "outputs": [
    {
     "data": {
      "text/html": [
       "<div>\n",
       "<style scoped>\n",
       "    .dataframe tbody tr th:only-of-type {\n",
       "        vertical-align: middle;\n",
       "    }\n",
       "\n",
       "    .dataframe tbody tr th {\n",
       "        vertical-align: top;\n",
       "    }\n",
       "\n",
       "    .dataframe thead th {\n",
       "        text-align: right;\n",
       "    }\n",
       "</style>\n",
       "<table border=\"1\" class=\"dataframe\">\n",
       "  <thead>\n",
       "    <tr style=\"text-align: right;\">\n",
       "      <th></th>\n",
       "      <th>Model_GS</th>\n",
       "      <th>MSE</th>\n",
       "      <th>MAE</th>\n",
       "      <th>RMSE</th>\n",
       "      <th>R2_Train</th>\n",
       "      <th>R2_Test</th>\n",
       "      <th>Training time (mins)</th>\n",
       "    </tr>\n",
       "  </thead>\n",
       "  <tbody>\n",
       "    <tr>\n",
       "      <th>5</th>\n",
       "      <td>RandomForest</td>\n",
       "      <td>0.000000e+00</td>\n",
       "      <td>0.00</td>\n",
       "      <td>0.000000e+00</td>\n",
       "      <td>0.96</td>\n",
       "      <td>0.51</td>\n",
       "      <td>0.66</td>\n",
       "    </tr>\n",
       "    <tr>\n",
       "      <th>1</th>\n",
       "      <td>LinearRegression</td>\n",
       "      <td>0.000000e+00</td>\n",
       "      <td>0.00</td>\n",
       "      <td>0.000000e+00</td>\n",
       "      <td>0.83</td>\n",
       "      <td>0.48</td>\n",
       "      <td>0.00</td>\n",
       "    </tr>\n",
       "    <tr>\n",
       "      <th>2</th>\n",
       "      <td>Ridge</td>\n",
       "      <td>0.000000e+00</td>\n",
       "      <td>0.00</td>\n",
       "      <td>0.000000e+00</td>\n",
       "      <td>0.73</td>\n",
       "      <td>0.48</td>\n",
       "      <td>0.01</td>\n",
       "    </tr>\n",
       "    <tr>\n",
       "      <th>3</th>\n",
       "      <td>Lasso</td>\n",
       "      <td>0.000000e+00</td>\n",
       "      <td>0.00</td>\n",
       "      <td>0.000000e+00</td>\n",
       "      <td>0.83</td>\n",
       "      <td>0.47</td>\n",
       "      <td>0.17</td>\n",
       "    </tr>\n",
       "    <tr>\n",
       "      <th>4</th>\n",
       "      <td>Elastic</td>\n",
       "      <td>0.000000e+00</td>\n",
       "      <td>0.00</td>\n",
       "      <td>0.000000e+00</td>\n",
       "      <td>0.81</td>\n",
       "      <td>0.45</td>\n",
       "      <td>0.22</td>\n",
       "    </tr>\n",
       "    <tr>\n",
       "      <th>6</th>\n",
       "      <td>XGB</td>\n",
       "      <td>0.000000e+00</td>\n",
       "      <td>0.00</td>\n",
       "      <td>0.000000e+00</td>\n",
       "      <td>0.93</td>\n",
       "      <td>0.45</td>\n",
       "      <td>0.53</td>\n",
       "    </tr>\n",
       "    <tr>\n",
       "      <th>0</th>\n",
       "      <td>KNN</td>\n",
       "      <td>1.950415e+14</td>\n",
       "      <td>1467708.75</td>\n",
       "      <td>1.396573e+07</td>\n",
       "      <td>0.71</td>\n",
       "      <td>0.33</td>\n",
       "      <td>0.12</td>\n",
       "    </tr>\n",
       "  </tbody>\n",
       "</table>\n",
       "</div>"
      ],
      "text/plain": [
       "           Model_GS           MSE         MAE          RMSE  R2_Train  \\\n",
       "5      RandomForest  0.000000e+00        0.00  0.000000e+00      0.96   \n",
       "1  LinearRegression  0.000000e+00        0.00  0.000000e+00      0.83   \n",
       "2             Ridge  0.000000e+00        0.00  0.000000e+00      0.73   \n",
       "3             Lasso  0.000000e+00        0.00  0.000000e+00      0.83   \n",
       "4           Elastic  0.000000e+00        0.00  0.000000e+00      0.81   \n",
       "6               XGB  0.000000e+00        0.00  0.000000e+00      0.93   \n",
       "0               KNN  1.950415e+14  1467708.75  1.396573e+07      0.71   \n",
       "\n",
       "   R2_Test  Training time (mins)  \n",
       "5     0.51                  0.66  \n",
       "1     0.48                  0.00  \n",
       "2     0.48                  0.01  \n",
       "3     0.47                  0.17  \n",
       "4     0.45                  0.22  \n",
       "6     0.45                  0.53  \n",
       "0     0.33                  0.12  "
      ]
     },
     "execution_count": 27,
     "metadata": {},
     "output_type": "execute_result"
    }
   ],
   "source": [
    "kf = KFold(n_splits=5, shuffle=True, random_state=0)\n",
    "\n",
    "i=0\n",
    "GS_model_best_params = Models_1.copy()\n",
    "# create DataFrame for metric results\n",
    "scores_GS_1 = pd.DataFrame({\n",
    "                    'Model_GS':Models_1.keys(),\n",
    "                    'MSE' : np.zeros(len(Models_1)),\n",
    "                    'MAE': np.zeros(len(Models_1)),\n",
    "                    'RMSE': np.zeros(len(Models_1)),\n",
    "                    'R2_Train' : np.zeros(len(Models_1)),\n",
    "                    'R2_Test': np.zeros(len(Models_1)),\n",
    "                    'Training time (mins)': np.zeros(len(Models_1))\n",
    "                    })\n",
    "\n",
    "# Make the GridSearchCV model \n",
    "\n",
    "for key, model in Models_1.items():\n",
    "    start = time.time()\n",
    "    GS_model = RandomizedSearchCV(estimator=model, param_distributions=parameters[key], n_jobs=-1, \n",
    "                                  n_iter = 20, cv=kf, verbose=0)\n",
    "\n",
    "    # fitting the dataset i.e X and y\n",
    "    GS_model.fit(X_train, y_train)\n",
    "    y_pred = GS_model.predict(X_test)\n",
    "    \n",
    "    #get the results\n",
    "    scores_GS_1.iloc[0,1] = round(mean_squared_error(y_test, y_pred), 3)\n",
    "    scores_GS_1.iloc[0,2] = round(median_absolute_error(y_test, y_pred), 3)\n",
    "    scores_GS_1.iloc[0,3] = round(np.sqrt(mean_squared_error(y_test, y_pred)), 3)\n",
    "    scores_GS_1.iloc[i,4] = round(GS_model.score(X_train, y_train), 2)\n",
    "    scores_GS_1.iloc[i,5] = round(GS_model.score(X_test, y_test), 2)\n",
    "    GS_model_best_params[key]=GS_model.best_params_\n",
    "    \n",
    "    #scores_GS_1.iloc[i,1] = r2_score(y_test, y_pred)\n",
    "            \n",
    "    stop = time.time()\n",
    "    scores_GS_1.iloc[i,6]=np.round((stop - start)/60, 2)\n",
    "          \n",
    "    i += 1 \n",
    "\n",
    "scores_GS_1.sort_values('R2_Test', ascending = False)"
   ]
  },
  {
   "cell_type": "markdown",
   "id": "45cec521",
   "metadata": {},
   "source": [
    "Get best hyperparameters"
   ]
  },
  {
   "cell_type": "code",
   "execution_count": 28,
   "id": "555b9e31",
   "metadata": {},
   "outputs": [
    {
     "data": {
      "text/plain": [
       "{'KNN': {'regressor__p': 1, 'regressor__n_neighbors': 5},\n",
       " 'LinearRegression': {'regressor__fit_intercept': False},\n",
       " 'Ridge': {'regressor__solver': 'auto',\n",
       "  'regressor__normalize': True,\n",
       "  'regressor__alpha': 1},\n",
       " 'Lasso': {'regressor__fit_intercept': True, 'regressor__alpha': 100},\n",
       " 'Elastic': {'regressor__max_iter': 10,\n",
       "  'regressor__l1_ratio': 0.6000000000000001,\n",
       "  'regressor__alpha': 0.01},\n",
       " 'RandomForest': {'regressor__random_state': 0,\n",
       "  'regressor__n_estimators': 100,\n",
       "  'regressor__min_samples_split': 5,\n",
       "  'regressor__min_samples_leaf': 1,\n",
       "  'regressor__max_features': 'sqrt',\n",
       "  'regressor__max_depth': 25,\n",
       "  'regressor__bootstrap': False},\n",
       " 'XGB': {'regressor__n_estimators': 100,\n",
       "  'regressor__min_child_weight': 3,\n",
       "  'regressor__max_depth': 3,\n",
       "  'regressor__learning_rate': 0.05,\n",
       "  'regressor__gamma': 0.25}}"
      ]
     },
     "execution_count": 28,
     "metadata": {},
     "output_type": "execute_result"
    }
   ],
   "source": [
    "GS_model_best_params"
   ]
  },
  {
   "cell_type": "markdown",
   "id": "24ab8ec4",
   "metadata": {},
   "source": [
    "##### 3.2.2 K-fold cross validation\n",
    "- Crosscheck accuracy of model perfomances on test dataset"
   ]
  },
  {
   "cell_type": "code",
   "execution_count": 29,
   "id": "ab33bc0b",
   "metadata": {},
   "outputs": [
    {
     "data": {
      "text/html": [
       "<div>\n",
       "<style scoped>\n",
       "    .dataframe tbody tr th:only-of-type {\n",
       "        vertical-align: middle;\n",
       "    }\n",
       "\n",
       "    .dataframe tbody tr th {\n",
       "        vertical-align: top;\n",
       "    }\n",
       "\n",
       "    .dataframe thead th {\n",
       "        text-align: right;\n",
       "    }\n",
       "</style>\n",
       "<table border=\"1\" class=\"dataframe\">\n",
       "  <thead>\n",
       "    <tr style=\"text-align: right;\">\n",
       "      <th></th>\n",
       "      <th>Model</th>\n",
       "      <th>R2 Mean</th>\n",
       "      <th>R2 Std</th>\n",
       "      <th>Training time (mins)</th>\n",
       "    </tr>\n",
       "  </thead>\n",
       "  <tbody>\n",
       "    <tr>\n",
       "      <th>6</th>\n",
       "      <td>XGB</td>\n",
       "      <td>0.68</td>\n",
       "      <td>0.13</td>\n",
       "      <td>1.10</td>\n",
       "    </tr>\n",
       "    <tr>\n",
       "      <th>5</th>\n",
       "      <td>RandomForest</td>\n",
       "      <td>0.67</td>\n",
       "      <td>0.19</td>\n",
       "      <td>1.06</td>\n",
       "    </tr>\n",
       "    <tr>\n",
       "      <th>1</th>\n",
       "      <td>LinearRegression</td>\n",
       "      <td>0.61</td>\n",
       "      <td>0.14</td>\n",
       "      <td>0.55</td>\n",
       "    </tr>\n",
       "    <tr>\n",
       "      <th>3</th>\n",
       "      <td>Lasso</td>\n",
       "      <td>0.61</td>\n",
       "      <td>0.14</td>\n",
       "      <td>0.66</td>\n",
       "    </tr>\n",
       "    <tr>\n",
       "      <th>4</th>\n",
       "      <td>Elastic</td>\n",
       "      <td>0.52</td>\n",
       "      <td>0.18</td>\n",
       "      <td>0.67</td>\n",
       "    </tr>\n",
       "    <tr>\n",
       "      <th>0</th>\n",
       "      <td>KNN</td>\n",
       "      <td>0.38</td>\n",
       "      <td>0.09</td>\n",
       "      <td>0.54</td>\n",
       "    </tr>\n",
       "    <tr>\n",
       "      <th>2</th>\n",
       "      <td>Ridge</td>\n",
       "      <td>0.12</td>\n",
       "      <td>0.08</td>\n",
       "      <td>0.55</td>\n",
       "    </tr>\n",
       "  </tbody>\n",
       "</table>\n",
       "</div>"
      ],
      "text/plain": [
       "              Model  R2 Mean  R2 Std  Training time (mins)\n",
       "6               XGB     0.68    0.13                  1.10\n",
       "5      RandomForest     0.67    0.19                  1.06\n",
       "1  LinearRegression     0.61    0.14                  0.55\n",
       "3             Lasso     0.61    0.14                  0.66\n",
       "4           Elastic     0.52    0.18                  0.67\n",
       "0               KNN     0.38    0.09                  0.54\n",
       "2             Ridge     0.12    0.08                  0.55"
      ]
     },
     "execution_count": 29,
     "metadata": {},
     "output_type": "execute_result"
    }
   ],
   "source": [
    "# create 10 folds\n",
    "\n",
    "kfold = KFold(n_splits=5, shuffle=True, random_state=0)\n",
    "\n",
    "i=0\n",
    "\n",
    "#Create result dictionary and dataframe\n",
    "\n",
    "cv_scores = pd.DataFrame({'Model':Models.keys(),\n",
    "                          'R2 Mean' : np.zeros(len(Models)),\n",
    "                          'R2 Std': np.zeros(len(Models)),\n",
    "                         'Training time (mins)': np.zeros(len(Models))})\n",
    "\n",
    "#Create the regression models\n",
    "for key, model in Models.items():\n",
    "    #scores = cross_validate(model, X, y, cv=kfold, scoring='r2')\n",
    "    scores = cross_val_score(model, X, y, cv=kfold)\n",
    "        \n",
    "    cv_scores.iloc[i,1] = round(scores.mean(), 2)\n",
    "    cv_scores.iloc[i,2] = round(scores.std(), 2)\n",
    "    \n",
    "    stop = time.time()\n",
    "    cv_scores.iloc[i,3]=np.round((stop - start)/60, 2)  \n",
    "    \n",
    "    i+=1\n",
    "    \n",
    "cv_scores.sort_values('R2 Mean', ascending = False)"
   ]
  },
  {
   "cell_type": "markdown",
   "id": "b786eae6",
   "metadata": {},
   "source": [
    "###### Narration - \n",
    "XGBoost has the best metrics in hyperparameter tuning and k-fold cross validation . It is closely followed by Ridge during tuning and RandomForest when cross validated. However, all the algorithms shows considerable overffiting (high bias and low variance) as observed by the high difference between the train and test R2 data, indicating good performance on the training data and weak performance on the test data."
   ]
  },
  {
   "cell_type": "markdown",
   "id": "d9fc9f5b",
   "metadata": {},
   "source": [
    "### 3.3 Modeling 2\n",
    " - Log tranformation of the target feature to stabilize variance and adhere closely to the normal distribution\n",
    " - K-fold of 10 and random state = 50"
   ]
  },
  {
   "cell_type": "markdown",
   "id": "9ad8b88f",
   "metadata": {},
   "source": [
    "#### 3.3.1 Skewness"
   ]
  },
  {
   "cell_type": "code",
   "execution_count": 30,
   "id": "c80527e6",
   "metadata": {},
   "outputs": [
    {
     "data": {
      "text/plain": [
       "NumberofBuildings                  14.053433\n",
       "ThirdLargestPropertyUseTypeGFA     12.969222\n",
       "AreaPerFloor                       10.060170\n",
       "SiteEnergyUse(kBtu)                 9.071210\n",
       "NumberofFloors                      6.070012\n",
       "LargestPropertyUseTypeGFA           5.295093\n",
       "PropertyGFAParking                  5.192259\n",
       "SecondLargestPropertyUseTypeGFA     4.736858\n",
       "BuildingAge                         0.283989\n",
       "dtype: float64"
      ]
     },
     "execution_count": 30,
     "metadata": {},
     "output_type": "execute_result"
    }
   ],
   "source": [
    "# calculate the skewness\n",
    "from scipy.stats import skew\n",
    "\n",
    "skew_ness = Data_Energy[Num_feat + ['SiteEnergyUse(kBtu)']].skew().sort_values(ascending = False)\n",
    "skewness = pd.DataFrame({\"Skew\" : skew_ness})\n",
    "skew_ness"
   ]
  },
  {
   "cell_type": "markdown",
   "id": "380f1714",
   "metadata": {},
   "source": [
    " - The distribution plots (see the cleaning and exploratory data notebook) and calculated skew values show that the numeric variables, except the building age, are slightly skewed to the right, and mostly follow power distributions rather than normal distributions, making the algorithm more likely to be biased. \n",
    " - Transforming data into a relatively normal distributions allows the algorithm to compare the relative relationship between data points better. \n",
    " - Therefore, the target variable is tranformed to log to reduce skewness. "
   ]
  },
  {
   "cell_type": "markdown",
   "id": "67ef77d9",
   "metadata": {},
   "source": [
    "###### 3.3.2 Log transformation of the target variable"
   ]
  },
  {
   "cell_type": "code",
   "execution_count": 31,
   "id": "35ea4756",
   "metadata": {},
   "outputs": [],
   "source": [
    "from sklearn.preprocessing import FunctionTransformer\n",
    "logtransformer = FunctionTransformer(np.log, inverse_func = np.exp, check_inverse = True)\n",
    "y_log = logtransformer.transform(y+1)"
   ]
  },
  {
   "cell_type": "code",
   "execution_count": 32,
   "id": "dd618d10",
   "metadata": {},
   "outputs": [
    {
     "data": {
      "image/png": "[encoded data removed]",
      "text/plain": [
       "<Figure size 864x360 with 2 Axes>"
      ]
     },
     "metadata": {
      "needs_background": "light"
     },
     "output_type": "display_data"
    }
   ],
   "source": [
    "# visualize untranformed and log_transformed target feature\n",
    "\n",
    "fig, (ax1, ax2) = plt.subplots(1,2, figsize=(12,5))\n",
    "sns.histplot(y, ax=ax1)\n",
    "sns.histplot(y_log, ax=ax2)    \n",
    "plt.show()"
   ]
  },
  {
   "cell_type": "markdown",
   "id": "d0260e3e",
   "metadata": {},
   "source": [
    "- log transformation of of the target feature changed the distribution to a near-normal distribution curve with zero skew "
   ]
  },
  {
   "cell_type": "code",
   "execution_count": 33,
   "id": "dd776463",
   "metadata": {},
   "outputs": [],
   "source": [
    "# Split data to 70% training and 30% test sets\n",
    "X_train, X_test, y_log_train, y_log_test = train_test_split(X, y_log, test_size=0.30, random_state=50)"
   ]
  },
  {
   "cell_type": "markdown",
   "id": "158bdf40",
   "metadata": {},
   "source": [
    "Design preprocessing pipelines for the algorthims\n",
    " - use RobustScaler() to scale numeric features \n",
    " - TargetEncoder for categorical features because unlike OnehotEncoder; TargetEncoder:\n",
    "  - group the data by each category and count the number of occurrences of each target.\n",
    "  - calculates the probability of each target occurring for each specific group."
   ]
  },
  {
   "cell_type": "code",
   "execution_count": 34,
   "id": "e87739f1",
   "metadata": {},
   "outputs": [],
   "source": [
    "from category_encoders import TargetEncoder\n",
    "\n",
    "def pipeline_1(Model_log):\n",
    "    \n",
    "    # standadize and instantiate the pipeline\n",
    "    numeric_transformer = Pipeline([('scaler', RobustScaler())]) \n",
    "    categorical_transformer = Pipeline([('scaler', TargetEncoder())])\n",
    "\n",
    "    preprocessor = ColumnTransformer(transformers=[(\"num\", numeric_transformer, Num_feat),\n",
    "        (\"cat\", categorical_transformer, Cat_feat),])\n",
    "    \n",
    "    pipe_log = Pipeline(steps=[(\"preprocessor\", preprocessor), (\"regressor\", Model_log)])\n",
    "    \n",
    "    return  pipe_log"
   ]
  },
  {
   "cell_type": "markdown",
   "id": "74133869",
   "metadata": {},
   "source": [
    "Create dictionary and instantiate models"
   ]
  },
  {
   "cell_type": "markdown",
   "id": "a5e0aacc",
   "metadata": {},
   "source": [
    "###### 3.3.3 Hyperparameter tuning and model performance evaluations"
   ]
  },
  {
   "cell_type": "code",
   "execution_count": 35,
   "id": "2a929aad",
   "metadata": {},
   "outputs": [],
   "source": [
    "# Create dictionary and instantiate models\n",
    "\n",
    "Models_log_GS = {\"KNN\" : pipeline_1(KNeighborsRegressor()), \n",
    "              #\"LinearRegression\" : pipeline_1(LinearRegression()),\n",
    "              \"Ridge\" : pipeline_1(Ridge(alpha = 0.1)),\n",
    "              \"Lasso\" : pipeline_1(Lasso(alpha = 0.1)),\n",
    "              \"Elastic\" : pipeline_1(ElasticNet (alpha = 0.1)),\n",
    "              #\"SVR\" : pipeline_1(SVR(kernel=\"linear\")), \n",
    "              \"RandomForest\" : pipeline_1(RandomForestRegressor()), \n",
    "              #\"DecisionTree\": pipeline_1(DecisionTreeRegressor()), \n",
    "              \"XGB\": pipeline_1(XGBRegressor())\n",
    "             }   \n",
    "\n",
    "parameters = {\"KNN\": KNN_grid, \"Lasso\" : Lasso_grid, \"RandomForest\": RF_grid, \"Ridge\": Ridge_grid, \n",
    "              \"Elastic\" : Elastic_grid,  \"XGB\": XGB_grid,\n",
    "              #\"DecisionTree\": DT_grid, \"SVR\" : SVR_grid, \"LinearRegression\" : LR_grid,              \n",
    "             }\n",
    "\n",
    "metric_log_GS = pd.DataFrame({\n",
    "                    'Model':Models_log_GS.keys(),\n",
    "                    'MSE' : np.zeros(len(Models_log_GS)),\n",
    "                    'MAE': np.zeros(len(Models_log_GS)),\n",
    "                    'RMSE': np.zeros(len(Models_log_GS)),\n",
    "                    'R2_Train': np.zeros(len(Models_log_GS)),\n",
    "                    'R2_Test': np.zeros(len(Models_log_GS)),\n",
    "                    'Training time (mins)': np.zeros(len(Models_log_GS))})\n",
    "\n",
    "\n",
    "kf = KFold(n_splits=10, shuffle=True, random_state=50)\n",
    "\n",
    "i=0\n",
    "GS_model_best_params = Models_log_GS.copy()\n",
    "\n",
    "# Make the RandomizedSearchCV model \n",
    "\n",
    "for key, model in Models_log_GS.items():\n",
    "    start = time.time()\n",
    "    GS_model = RandomizedSearchCV(estimator=model, param_distributions=parameters[key], n_jobs=-1, \n",
    "                                  n_iter = 20, cv=kf, verbose=0) \n",
    "    #GridSearchCV(estimator=model, param_grid=parameters[key], n_jobs=-1, cv=kf, verbose=0)\n",
    "\n",
    "    # fitting the dataset i.e X and y\n",
    "    reg_log_2 = GS_model.fit(X_train, y_log_train)\n",
    "    y_log_pred = GS_model.predict(X_test)\n",
    "    \n",
    "    #get the results\n",
    "    \n",
    "    metric_log_GS.iloc[i,1] = round(mean_squared_error(y_log_test, y_log_pred), 3)\n",
    "    metric_log_GS.iloc[i,2] = round(median_absolute_error(y_log_test, y_log_pred), 3)\n",
    "    metric_log_GS.iloc[i,3] = round(np.sqrt(mean_squared_error(y_log_test, y_log_pred)), 3)\n",
    "    metric_log_GS.iloc[i,4] = round(reg_log_2.score(X_train, y_log_train), 3)\n",
    "    metric_log_GS.iloc[i,5] = round(reg_log_2.score(X_test, y_log_test), 3)\n",
    "    GS_model_best_params[key]=GS_model.best_params_\n",
    "    \n",
    "    #scores_GS_2.iloc[i,1] = r2_score(y_log_test, y_log_pred)\n",
    "            \n",
    "    stop = time.time()\n",
    "    metric_log_GS.iloc[i,6]=np.round((stop - start)/60, 2)\n",
    "          \n",
    "    i += 1"
   ]
  },
  {
   "cell_type": "code",
   "execution_count": 36,
   "id": "c900d3dc",
   "metadata": {},
   "outputs": [
    {
     "data": {
      "text/html": [
       "<div>\n",
       "<style scoped>\n",
       "    .dataframe tbody tr th:only-of-type {\n",
       "        vertical-align: middle;\n",
       "    }\n",
       "\n",
       "    .dataframe tbody tr th {\n",
       "        vertical-align: top;\n",
       "    }\n",
       "\n",
       "    .dataframe thead th {\n",
       "        text-align: right;\n",
       "    }\n",
       "</style>\n",
       "<table border=\"1\" class=\"dataframe\">\n",
       "  <thead>\n",
       "    <tr style=\"text-align: right;\">\n",
       "      <th></th>\n",
       "      <th>Model</th>\n",
       "      <th>MSE</th>\n",
       "      <th>MAE</th>\n",
       "      <th>RMSE</th>\n",
       "      <th>R2_Train</th>\n",
       "      <th>R2_Test</th>\n",
       "      <th>Training time (mins)</th>\n",
       "    </tr>\n",
       "  </thead>\n",
       "  <tbody>\n",
       "    <tr>\n",
       "      <th>5</th>\n",
       "      <td>XGB</td>\n",
       "      <td>0.436</td>\n",
       "      <td>0.366</td>\n",
       "      <td>0.660</td>\n",
       "      <td>0.815</td>\n",
       "      <td>0.724</td>\n",
       "      <td>0.80</td>\n",
       "    </tr>\n",
       "    <tr>\n",
       "      <th>4</th>\n",
       "      <td>RandomForest</td>\n",
       "      <td>0.461</td>\n",
       "      <td>0.366</td>\n",
       "      <td>0.679</td>\n",
       "      <td>0.961</td>\n",
       "      <td>0.709</td>\n",
       "      <td>0.72</td>\n",
       "    </tr>\n",
       "    <tr>\n",
       "      <th>0</th>\n",
       "      <td>KNN</td>\n",
       "      <td>0.671</td>\n",
       "      <td>0.488</td>\n",
       "      <td>0.819</td>\n",
       "      <td>0.670</td>\n",
       "      <td>0.575</td>\n",
       "      <td>0.76</td>\n",
       "    </tr>\n",
       "    <tr>\n",
       "      <th>1</th>\n",
       "      <td>Ridge</td>\n",
       "      <td>0.687</td>\n",
       "      <td>0.490</td>\n",
       "      <td>0.829</td>\n",
       "      <td>0.596</td>\n",
       "      <td>0.565</td>\n",
       "      <td>0.09</td>\n",
       "    </tr>\n",
       "    <tr>\n",
       "      <th>3</th>\n",
       "      <td>Elastic</td>\n",
       "      <td>0.702</td>\n",
       "      <td>0.481</td>\n",
       "      <td>0.838</td>\n",
       "      <td>0.587</td>\n",
       "      <td>0.556</td>\n",
       "      <td>0.26</td>\n",
       "    </tr>\n",
       "    <tr>\n",
       "      <th>2</th>\n",
       "      <td>Lasso</td>\n",
       "      <td>0.735</td>\n",
       "      <td>0.484</td>\n",
       "      <td>0.857</td>\n",
       "      <td>0.568</td>\n",
       "      <td>0.535</td>\n",
       "      <td>0.08</td>\n",
       "    </tr>\n",
       "  </tbody>\n",
       "</table>\n",
       "</div>"
      ],
      "text/plain": [
       "          Model    MSE    MAE   RMSE  R2_Train  R2_Test  Training time (mins)\n",
       "5           XGB  0.436  0.366  0.660     0.815    0.724                  0.80\n",
       "4  RandomForest  0.461  0.366  0.679     0.961    0.709                  0.72\n",
       "0           KNN  0.671  0.488  0.819     0.670    0.575                  0.76\n",
       "1         Ridge  0.687  0.490  0.829     0.596    0.565                  0.09\n",
       "3       Elastic  0.702  0.481  0.838     0.587    0.556                  0.26\n",
       "2         Lasso  0.735  0.484  0.857     0.568    0.535                  0.08"
      ]
     },
     "execution_count": 36,
     "metadata": {},
     "output_type": "execute_result"
    }
   ],
   "source": [
    "metric_log_GS.sort_values('R2_Test', ascending = False)"
   ]
  },
  {
   "cell_type": "code",
   "execution_count": 37,
   "id": "d716e017",
   "metadata": {},
   "outputs": [
    {
     "data": {
      "text/plain": [
       "{'KNN': {'regressor__p': 1, 'regressor__n_neighbors': 9},\n",
       " 'Ridge': {'regressor__solver': 'auto',\n",
       "  'regressor__normalize': True,\n",
       "  'regressor__alpha': 0.1},\n",
       " 'Lasso': {'regressor__fit_intercept': True, 'regressor__alpha': 0.1},\n",
       " 'Elastic': {'regressor__max_iter': 1000,\n",
       "  'regressor__l1_ratio': 0.30000000000000004,\n",
       "  'regressor__alpha': 0.1},\n",
       " 'RandomForest': {'regressor__random_state': 0,\n",
       "  'regressor__n_estimators': 200,\n",
       "  'regressor__min_samples_split': 2,\n",
       "  'regressor__min_samples_leaf': 1,\n",
       "  'regressor__max_features': 'sqrt',\n",
       "  'regressor__max_depth': 50,\n",
       "  'regressor__bootstrap': True},\n",
       " 'XGB': {'regressor__n_estimators': 125,\n",
       "  'regressor__min_child_weight': 9,\n",
       "  'regressor__max_depth': 3,\n",
       "  'regressor__learning_rate': 0.1,\n",
       "  'regressor__gamma': 0.25}}"
      ]
     },
     "execution_count": 37,
     "metadata": {},
     "output_type": "execute_result"
    }
   ],
   "source": [
    "# Get best model parameters of each algorithms\n",
    "GS_model_best_params"
   ]
  },
  {
   "cell_type": "markdown",
   "id": "fd1a64c4",
   "metadata": {},
   "source": [
    "###### 3.3.4 Cross validation"
   ]
  },
  {
   "cell_type": "code",
   "execution_count": 38,
   "id": "c9642443",
   "metadata": {},
   "outputs": [
    {
     "data": {
      "text/html": [
       "<div>\n",
       "<style scoped>\n",
       "    .dataframe tbody tr th:only-of-type {\n",
       "        vertical-align: middle;\n",
       "    }\n",
       "\n",
       "    .dataframe tbody tr th {\n",
       "        vertical-align: top;\n",
       "    }\n",
       "\n",
       "    .dataframe thead th {\n",
       "        text-align: right;\n",
       "    }\n",
       "</style>\n",
       "<table border=\"1\" class=\"dataframe\">\n",
       "  <thead>\n",
       "    <tr style=\"text-align: right;\">\n",
       "      <th></th>\n",
       "      <th>Model</th>\n",
       "      <th>R2 Mean</th>\n",
       "      <th>Std</th>\n",
       "      <th>Training time (mins)</th>\n",
       "    </tr>\n",
       "  </thead>\n",
       "  <tbody>\n",
       "    <tr>\n",
       "      <th>4</th>\n",
       "      <td>RandomForest</td>\n",
       "      <td>0.72</td>\n",
       "      <td>0.03</td>\n",
       "      <td>1.15</td>\n",
       "    </tr>\n",
       "    <tr>\n",
       "      <th>5</th>\n",
       "      <td>XGB</td>\n",
       "      <td>0.69</td>\n",
       "      <td>0.04</td>\n",
       "      <td>1.25</td>\n",
       "    </tr>\n",
       "    <tr>\n",
       "      <th>0</th>\n",
       "      <td>KNN</td>\n",
       "      <td>0.55</td>\n",
       "      <td>0.04</td>\n",
       "      <td>0.83</td>\n",
       "    </tr>\n",
       "    <tr>\n",
       "      <th>1</th>\n",
       "      <td>Ridge</td>\n",
       "      <td>0.55</td>\n",
       "      <td>0.07</td>\n",
       "      <td>0.87</td>\n",
       "    </tr>\n",
       "    <tr>\n",
       "      <th>2</th>\n",
       "      <td>Lasso</td>\n",
       "      <td>0.54</td>\n",
       "      <td>0.04</td>\n",
       "      <td>0.89</td>\n",
       "    </tr>\n",
       "    <tr>\n",
       "      <th>3</th>\n",
       "      <td>Elastic</td>\n",
       "      <td>0.54</td>\n",
       "      <td>0.04</td>\n",
       "      <td>0.92</td>\n",
       "    </tr>\n",
       "  </tbody>\n",
       "</table>\n",
       "</div>"
      ],
      "text/plain": [
       "          Model  R2 Mean   Std  Training time (mins)\n",
       "4  RandomForest     0.72  0.03                  1.15\n",
       "5           XGB     0.69  0.04                  1.25\n",
       "0           KNN     0.55  0.04                  0.83\n",
       "1         Ridge     0.55  0.07                  0.87\n",
       "2         Lasso     0.54  0.04                  0.89\n",
       "3       Elastic     0.54  0.04                  0.92"
      ]
     },
     "execution_count": 38,
     "metadata": {},
     "output_type": "execute_result"
    }
   ],
   "source": [
    "# create 5 folds\n",
    "\n",
    "kfold = KFold(n_splits=10, shuffle=True, random_state=50)\n",
    "\n",
    "i=0\n",
    "\n",
    "#Create result dictionary and dataframe\n",
    "\n",
    "scores_log = pd.DataFrame({'Model':Models_log_GS.keys(),\n",
    "                           'R2 Mean' : np.zeros(len(Models_log_GS)),\n",
    "                          'Std': np.zeros(len(Models_log_GS)),\n",
    "                           'Training time (mins)': np.zeros(len(Models_log_GS))})\n",
    "\n",
    "#Create the regression models\n",
    "for key, model in Models_log_GS.items():\n",
    "    cv_score = cross_val_score(model, X, y_log, cv=kfold, scoring='r2')\n",
    "        \n",
    "    scores_log.iloc[i,1] = round(cv_score.mean(), 2)\n",
    "    scores_log.iloc[i,2] = round(cv_score.std(), 2)\n",
    "    \n",
    "    stop = time.time()\n",
    "    scores_log.iloc[i,3]=np.round((stop - start)/60, 2)  \n",
    "    i+=1\n",
    "    \n",
    "scores_log.sort_values('R2 Mean', ascending = False)"
   ]
  },
  {
   "cell_type": "markdown",
   "id": "0a534b69",
   "metadata": {},
   "source": [
    "visualization of performance metrics and running time"
   ]
  },
  {
   "cell_type": "code",
   "execution_count": 39,
   "id": "26a0ecd2",
   "metadata": {},
   "outputs": [
    {
     "data": {
      "image/png": "[encoded data removed]",
      "text/plain": [
       "<Figure size 1152x864 with 4 Axes>"
      ]
     },
     "metadata": {
      "needs_background": "light"
     },
     "output_type": "display_data"
    }
   ],
   "source": [
    "label_1 = ['R2_Train', 'R2_Test']\n",
    "label_2 = ['MSE', 'MAE', 'RMSE']\n",
    "\n",
    "fig, ((ax1, ax2), (ax3, ax4)) = plt.subplots(2,2, figsize = (16,12))\n",
    "\n",
    "metric_log_GS[['R2_Train', 'R2_Test', 'Model']].plot(kind = 'line', x = 'Model', grid = True, \n",
    "                                title = 'Regressor Performance - R squared', ax = ax1)\n",
    "ax1.legend(labels = label_1, loc = 'upper left')\n",
    "\n",
    "metric_log_GS[['Training time (mins)', 'Model']].plot(kind = 'line', x = 'Model', grid = True,\n",
    "                title = 'Regressor Training Time(mins)', ax = ax2)\n",
    "\n",
    "scores_log[['R2 Mean', 'Model']].plot(kind = 'line', x = 'Model', grid = True, \n",
    "            title = 'Cross validated - R squared', ax = ax3)\n",
    "\n",
    "metric_log_GS[['MSE', 'MAE', 'RMSE', 'Model']].plot(kind = 'line', x = 'Model', grid = True,\n",
    "                    title = 'Regressor Performance - R squared', ax = ax4)\n",
    "ax4.legend(labels = label_2, loc = 'upper left')\n",
    "plt.show()"
   ]
  },
  {
   "cell_type": "markdown",
   "id": "aba82a5a",
   "metadata": {},
   "source": [
    "###### Narration -\n",
    " - Log tranformation of the target feature produced better models with better perfomances. XGBoost slight perfomed better than RandomForest during hyperparameter tuning while RandomForest slighly perfomed better when cross validate. There is no significant differences in their training times and the margin in their R2 score on test data is significantly low. However, RandomForest performs far better on the train data than test data, suggesting more overfitting than the XGBoost."
   ]
  },
  {
   "cell_type": "markdown",
   "id": "e06d68fa",
   "metadata": {},
   "source": [
    "### 3.4 Modeling 3\n",
    "- log transformation of all input and target numerical features\n",
    "- StandardScaler for numeric features due to log transformation that handled their skewness\n",
    "- TargetEncoder for caterigorical features \n",
    "- kfold = 10 and random state = 50"
   ]
  },
  {
   "cell_type": "markdown",
   "id": "aeb040bf",
   "metadata": {},
   "source": [
    "##### 3.4.1 Log transformation of input numeric features"
   ]
  },
  {
   "cell_type": "code",
   "execution_count": 40,
   "id": "5c6e0fe4",
   "metadata": {},
   "outputs": [],
   "source": [
    "#log transformation of input numerical features\n",
    "def log_num(feat):\n",
    "    log_feat = \"log\" + feat\n",
    "    Data_Energy[feat] = logtransformer.transform(Data_Energy[feat] + 1)\n",
    "    return Data_Energy[feat]\n",
    "\n",
    "for i in Num_feat:\n",
    "    log_num(i)\n",
    "\n",
    "X_log = Data_Energy.drop('SiteEnergyUse(kBtu)', axis = 1)"
   ]
  },
  {
   "cell_type": "code",
   "execution_count": 41,
   "id": "1fd95b10",
   "metadata": {},
   "outputs": [],
   "source": [
    "num_log = Num_feat # list of numerical features"
   ]
  },
  {
   "cell_type": "code",
   "execution_count": 42,
   "id": "050a7d39",
   "metadata": {},
   "outputs": [
    {
     "data": {
      "text/plain": [
       "(1522, 13)"
      ]
     },
     "execution_count": 42,
     "metadata": {},
     "output_type": "execute_result"
    }
   ],
   "source": [
    "X_log.shape"
   ]
  },
  {
   "cell_type": "code",
   "execution_count": 43,
   "id": "357ae649",
   "metadata": {},
   "outputs": [
    {
     "data": {
      "text/plain": [
       "(1522,)"
      ]
     },
     "execution_count": 43,
     "metadata": {},
     "output_type": "execute_result"
    }
   ],
   "source": [
    "y_log.shape"
   ]
  },
  {
   "cell_type": "code",
   "execution_count": 44,
   "id": "365849eb",
   "metadata": {},
   "outputs": [],
   "source": [
    "# Split data to 70% training and 30% test sets\n",
    "X_log_train, X_log_test, y_log_train, y_log_test = train_test_split(X_log, y_log, test_size=0.30, random_state=50)"
   ]
  },
  {
   "cell_type": "code",
   "execution_count": 45,
   "id": "3f36e7e9",
   "metadata": {},
   "outputs": [],
   "source": [
    "# Build model\n",
    "def pipeline_2(Model_log2):\n",
    "    \n",
    "    # Instantiate the pipeline\n",
    "    numeric_transformer = Pipeline([('scaler', StandardScaler())]) \n",
    "    categorical_transformer = Pipeline([('scaler', TargetEncoder())])\n",
    "\n",
    "    preprocessor = ColumnTransformer(transformers=[(\"num\", numeric_transformer, num_log),\n",
    "        (\"cat\", categorical_transformer, Cat_feat),])\n",
    "    \n",
    "    model_pipe_log2 = Pipeline(steps=[(\"preprocessor\", preprocessor), (\"regressor\", Model_log2)])\n",
    "    return model_pipe_log2"
   ]
  },
  {
   "cell_type": "markdown",
   "id": "62f66890",
   "metadata": {},
   "source": [
    "Instatiate pipelines"
   ]
  },
  {
   "cell_type": "markdown",
   "id": "01fca1ab",
   "metadata": {},
   "source": [
    "##### 3.4.2 Hyperparameter optimization and perfomance evaluation"
   ]
  },
  {
   "cell_type": "code",
   "execution_count": 46,
   "id": "54e8c601",
   "metadata": {},
   "outputs": [],
   "source": [
    "#Instatiate pipelines\n",
    "\n",
    "Models_log2_G = {\"KNN\" : pipeline_2(KNeighborsRegressor()), \n",
    "              #\"LinearRegression\" : pipeline_2(LinearRegression()),\n",
    "              \"Ridge\" : pipeline_2(Ridge(alpha = 0.1)),\n",
    "              \"Lasso\" : pipeline_2(Lasso(alpha = 0.1)),\n",
    "              \"Elastic\" : pipeline_2(ElasticNet (alpha = 0.1)),\n",
    "              #\"SVR\" : pipeline_2(SVR(kernel=\"linear\")), \n",
    "              \"RandomForest\" : pipeline_2(RandomForestRegressor()), \n",
    "              #\"DecisionTree\": pipeline_2(DecisionTreeRegressor()), \n",
    "              \"XGB\": pipeline_2(XGBRegressor())}         "
   ]
  },
  {
   "cell_type": "code",
   "execution_count": 47,
   "id": "3165167c",
   "metadata": {},
   "outputs": [
    {
     "data": {
      "text/html": [
       "<div>\n",
       "<style scoped>\n",
       "    .dataframe tbody tr th:only-of-type {\n",
       "        vertical-align: middle;\n",
       "    }\n",
       "\n",
       "    .dataframe tbody tr th {\n",
       "        vertical-align: top;\n",
       "    }\n",
       "\n",
       "    .dataframe thead th {\n",
       "        text-align: right;\n",
       "    }\n",
       "</style>\n",
       "<table border=\"1\" class=\"dataframe\">\n",
       "  <thead>\n",
       "    <tr style=\"text-align: right;\">\n",
       "      <th></th>\n",
       "      <th>Model</th>\n",
       "      <th>MSE</th>\n",
       "      <th>MAE</th>\n",
       "      <th>RMSE</th>\n",
       "      <th>R2_Train</th>\n",
       "      <th>R2_Test</th>\n",
       "      <th>Training time (mins)</th>\n",
       "    </tr>\n",
       "  </thead>\n",
       "  <tbody>\n",
       "    <tr>\n",
       "      <th>5</th>\n",
       "      <td>XGB</td>\n",
       "      <td>0.440</td>\n",
       "      <td>0.392</td>\n",
       "      <td>0.664</td>\n",
       "      <td>0.909</td>\n",
       "      <td>0.721</td>\n",
       "      <td>1.31</td>\n",
       "    </tr>\n",
       "    <tr>\n",
       "      <th>4</th>\n",
       "      <td>RandomForest</td>\n",
       "      <td>0.463</td>\n",
       "      <td>0.374</td>\n",
       "      <td>0.681</td>\n",
       "      <td>0.871</td>\n",
       "      <td>0.707</td>\n",
       "      <td>0.96</td>\n",
       "    </tr>\n",
       "    <tr>\n",
       "      <th>3</th>\n",
       "      <td>Elastic</td>\n",
       "      <td>0.502</td>\n",
       "      <td>0.425</td>\n",
       "      <td>0.709</td>\n",
       "      <td>0.703</td>\n",
       "      <td>0.682</td>\n",
       "      <td>0.24</td>\n",
       "    </tr>\n",
       "    <tr>\n",
       "      <th>1</th>\n",
       "      <td>Ridge</td>\n",
       "      <td>0.516</td>\n",
       "      <td>0.429</td>\n",
       "      <td>0.718</td>\n",
       "      <td>0.697</td>\n",
       "      <td>0.674</td>\n",
       "      <td>0.08</td>\n",
       "    </tr>\n",
       "    <tr>\n",
       "      <th>2</th>\n",
       "      <td>Lasso</td>\n",
       "      <td>0.532</td>\n",
       "      <td>0.414</td>\n",
       "      <td>0.729</td>\n",
       "      <td>0.679</td>\n",
       "      <td>0.664</td>\n",
       "      <td>0.08</td>\n",
       "    </tr>\n",
       "    <tr>\n",
       "      <th>0</th>\n",
       "      <td>KNN</td>\n",
       "      <td>0.541</td>\n",
       "      <td>0.417</td>\n",
       "      <td>0.736</td>\n",
       "      <td>0.768</td>\n",
       "      <td>0.658</td>\n",
       "      <td>0.26</td>\n",
       "    </tr>\n",
       "  </tbody>\n",
       "</table>\n",
       "</div>"
      ],
      "text/plain": [
       "          Model    MSE    MAE   RMSE  R2_Train  R2_Test  Training time (mins)\n",
       "5           XGB  0.440  0.392  0.664     0.909    0.721                  1.31\n",
       "4  RandomForest  0.463  0.374  0.681     0.871    0.707                  0.96\n",
       "3       Elastic  0.502  0.425  0.709     0.703    0.682                  0.24\n",
       "1         Ridge  0.516  0.429  0.718     0.697    0.674                  0.08\n",
       "2         Lasso  0.532  0.414  0.729     0.679    0.664                  0.08\n",
       "0           KNN  0.541  0.417  0.736     0.768    0.658                  0.26"
      ]
     },
     "execution_count": 47,
     "metadata": {},
     "output_type": "execute_result"
    }
   ],
   "source": [
    "kf = KFold(n_splits=10, shuffle=True, random_state=50)\n",
    "GS_model_2_best_params = Models_log2_G.copy()\n",
    "i=0\n",
    "\n",
    "# create DataFrame for metric results\n",
    "scores_GS_3 = pd.DataFrame({\n",
    "                    'Model':Models_log2_G.keys(),\n",
    "                    'MSE' : np.zeros(len(Models_log2_G)),\n",
    "                    'MAE': np.zeros(len(Models_log2_G)),\n",
    "                    'RMSE': np.zeros(len(Models_log2_G)),\n",
    "                    'R2_Train': np.zeros(len(Models_log2_G)),\n",
    "                    'R2_Test': np.zeros(len(Models_log2_G)),\n",
    "                    'Training time (mins)': np.zeros(len(Models_log2_G))})\n",
    "                    \n",
    "# Make the GridSearchCV model \n",
    "\n",
    "for key, model in Models_log2_G.items():\n",
    "    start = time.time()\n",
    "    GS_model_2 = RandomizedSearchCV(estimator=model, param_distributions=parameters[key], n_jobs=-1, \n",
    "                                  n_iter = 20, cv=kf, verbose=0) \n",
    "    #GridSearchCV(estimator=model, param_grid=parameters[key], n_jobs=-1, cv=kf, verbose=0)\n",
    "    \n",
    "\n",
    "    # fitting the dataset i.e X and y\n",
    "    reg_Xlog = GS_model_2.fit(X_log_train, y_log_train)\n",
    "    y_pred_log = GS_model_2.predict(X_log_test)\n",
    "    \n",
    "    #get the results\n",
    "    scores_GS_3.iloc[i,1] = round(mean_squared_error(y_log_test, y_pred_log), 3)\n",
    "    scores_GS_3.iloc[i,2] = round(median_absolute_error(y_log_test, y_pred_log),3)\n",
    "    scores_GS_3.iloc[i,3] = round(np.sqrt(mean_squared_error(y_log_test, y_pred_log)), 3)\n",
    "    scores_GS_3.iloc[i,4] = round(reg_Xlog.score(X_log_train, y_log_train), 3)\n",
    "    scores_GS_3.iloc[i,5] = round(reg_Xlog.score(X_log_test, y_log_test), 3)\n",
    "    \n",
    "    GS_model_2_best_params[key]=GS_model_2.best_params_\n",
    "            \n",
    "    stop = time.time()\n",
    "    scores_GS_3.iloc[i,6]=np.round((stop - start)/60, 2)\n",
    "          \n",
    "    i += 1\n",
    "    \n",
    "scores_GS_3.sort_values('R2_Test', ascending = False)"
   ]
  },
  {
   "cell_type": "code",
   "execution_count": 48,
   "id": "cd76f9b0",
   "metadata": {},
   "outputs": [
    {
     "data": {
      "text/plain": [
       "{'KNN': {'regressor__p': 1, 'regressor__n_neighbors': 6},\n",
       " 'Ridge': {'regressor__solver': 'auto',\n",
       "  'regressor__normalize': True,\n",
       "  'regressor__alpha': 0.1},\n",
       " 'Lasso': {'regressor__fit_intercept': True, 'regressor__alpha': 0.1},\n",
       " 'Elastic': {'regressor__max_iter': 10,\n",
       "  'regressor__l1_ratio': 0.0,\n",
       "  'regressor__alpha': 0.01},\n",
       " 'RandomForest': {'regressor__random_state': 0,\n",
       "  'regressor__n_estimators': 100,\n",
       "  'regressor__min_samples_split': 2,\n",
       "  'regressor__min_samples_leaf': 5,\n",
       "  'regressor__max_features': 'log2',\n",
       "  'regressor__max_depth': 25,\n",
       "  'regressor__bootstrap': False},\n",
       " 'XGB': {'regressor__n_estimators': 150,\n",
       "  'regressor__min_child_weight': 7,\n",
       "  'regressor__max_depth': 6,\n",
       "  'regressor__learning_rate': 0.1,\n",
       "  'regressor__gamma': 0.5}}"
      ]
     },
     "execution_count": 48,
     "metadata": {},
     "output_type": "execute_result"
    }
   ],
   "source": [
    "GS_model_2_best_params"
   ]
  },
  {
   "cell_type": "markdown",
   "id": "20c5b32e",
   "metadata": {},
   "source": [
    "##### 3.5.1 cross validation"
   ]
  },
  {
   "cell_type": "code",
   "execution_count": 49,
   "id": "23aec56f",
   "metadata": {},
   "outputs": [
    {
     "data": {
      "text/html": [
       "<div>\n",
       "<style scoped>\n",
       "    .dataframe tbody tr th:only-of-type {\n",
       "        vertical-align: middle;\n",
       "    }\n",
       "\n",
       "    .dataframe tbody tr th {\n",
       "        vertical-align: top;\n",
       "    }\n",
       "\n",
       "    .dataframe thead th {\n",
       "        text-align: right;\n",
       "    }\n",
       "</style>\n",
       "<table border=\"1\" class=\"dataframe\">\n",
       "  <thead>\n",
       "    <tr style=\"text-align: right;\">\n",
       "      <th></th>\n",
       "      <th>Model</th>\n",
       "      <th>R2 Mean</th>\n",
       "      <th>Std</th>\n",
       "      <th>Training time (mins)</th>\n",
       "    </tr>\n",
       "  </thead>\n",
       "  <tbody>\n",
       "    <tr>\n",
       "      <th>4</th>\n",
       "      <td>RandomForest</td>\n",
       "      <td>0.72</td>\n",
       "      <td>0.03</td>\n",
       "      <td>1.69</td>\n",
       "    </tr>\n",
       "    <tr>\n",
       "      <th>5</th>\n",
       "      <td>XGB</td>\n",
       "      <td>0.69</td>\n",
       "      <td>0.04</td>\n",
       "      <td>1.77</td>\n",
       "    </tr>\n",
       "    <tr>\n",
       "      <th>1</th>\n",
       "      <td>Ridge</td>\n",
       "      <td>0.68</td>\n",
       "      <td>0.02</td>\n",
       "      <td>1.38</td>\n",
       "    </tr>\n",
       "    <tr>\n",
       "      <th>3</th>\n",
       "      <td>Elastic</td>\n",
       "      <td>0.67</td>\n",
       "      <td>0.02</td>\n",
       "      <td>1.45</td>\n",
       "    </tr>\n",
       "    <tr>\n",
       "      <th>2</th>\n",
       "      <td>Lasso</td>\n",
       "      <td>0.66</td>\n",
       "      <td>0.02</td>\n",
       "      <td>1.41</td>\n",
       "    </tr>\n",
       "    <tr>\n",
       "      <th>0</th>\n",
       "      <td>KNN</td>\n",
       "      <td>0.65</td>\n",
       "      <td>0.03</td>\n",
       "      <td>1.35</td>\n",
       "    </tr>\n",
       "  </tbody>\n",
       "</table>\n",
       "</div>"
      ],
      "text/plain": [
       "          Model  R2 Mean   Std  Training time (mins)\n",
       "4  RandomForest     0.72  0.03                  1.69\n",
       "5           XGB     0.69  0.04                  1.77\n",
       "1         Ridge     0.68  0.02                  1.38\n",
       "3       Elastic     0.67  0.02                  1.45\n",
       "2         Lasso     0.66  0.02                  1.41\n",
       "0           KNN     0.65  0.03                  1.35"
      ]
     },
     "execution_count": 49,
     "metadata": {},
     "output_type": "execute_result"
    }
   ],
   "source": [
    "# create 5 folds\n",
    "\n",
    "kfold = KFold(n_splits=10, shuffle=True, random_state=50)\n",
    "\n",
    "i=0\n",
    "\n",
    "#Create result dictionary and dataframe\n",
    "\n",
    "cv_scores_log2 = pd.DataFrame({'Model':Models_log2_G.keys(),\n",
    "                               'R2 Mean' : np.zeros(len(Models_log2_G)),\n",
    "                              'Std': np.zeros(len(Models_log2_G)),\n",
    "                              'Training time (mins)': np.zeros(len(Models_log2_G))})\n",
    "\n",
    "#Create the regression models\n",
    "for key, model in Models_log2_G.items():\n",
    "    cv_score2 = cross_val_score(model, X_log, y_log, cv=kfold, scoring='r2')\n",
    "        \n",
    "    cv_scores_log2.iloc[i,1] = round(cv_score2.mean(), 2)\n",
    "    cv_scores_log2.iloc[i,2] = round(cv_score2.std(), 2)\n",
    "        \n",
    "    stop = time.time()\n",
    "    cv_scores_log2.iloc[i,3]=np.round((stop - start)/60, 2)  \n",
    "    i+=1\n",
    "    \n",
    "cv_scores_log2.sort_values('R2 Mean', ascending = False)"
   ]
  },
  {
   "cell_type": "markdown",
   "id": "bd54175e",
   "metadata": {},
   "source": [
    "visualization of performance metrics and running time"
   ]
  },
  {
   "cell_type": "code",
   "execution_count": 50,
   "id": "b190cb6e",
   "metadata": {},
   "outputs": [
    {
     "data": {
      "image/png": "[encoded data removed]",
      "text/plain": [
       "<Figure size 1600x1200 with 4 Axes>"
      ]
     },
     "metadata": {
      "needs_background": "light"
     },
     "output_type": "display_data"
    }
   ],
   "source": [
    "label_1 = ['R2_Train', 'R2_Test']\n",
    "label_2 = ['MSE', 'MAE', 'RMSE']\n",
    "\n",
    "fig, ((ax1, ax2), (ax3, ax4)) = plt.subplots(2,2, figsize = (16,12), dpi = 100)\n",
    "\n",
    "scores_GS_3[['R2_Train', 'R2_Test', 'Model']].plot(kind = 'line', x = 'Model', grid = True, \n",
    "                                title = 'Regressor Performance - R squared', ax = ax1)\n",
    "ax1.legend(labels = label_1, loc = 'upper left')\n",
    "\n",
    "scores_GS_3[['Training time (mins)', 'Model']].plot(kind = 'line', x = 'Model', grid = True,\n",
    "                title = 'Regressor Training Time(mins)', ax = ax2)\n",
    "\n",
    "cv_scores_log2[['R2 Mean', 'Model']].plot(kind = 'line', x = 'Model', grid = True, \n",
    "            title = 'Cross validated - R squared', ax = ax3)\n",
    "\n",
    "scores_GS_3[['MSE', 'MAE', 'RMSE', 'Model']].plot(kind = 'line', x = 'Model', grid = True,\n",
    "                    title = 'Regressor Performance - R squared', ax = ax4)\n",
    "ax4.legend(labels = label_2, loc = 'upper left')\n",
    "plt.show()"
   ]
  },
  {
   "cell_type": "markdown",
   "id": "f4e116bc",
   "metadata": {},
   "source": [
    "- Log transformation of both the input and target numeric features produced slight increases the model perfomances. Again, XGBoost slight perfomed better than RandomForest during hyperparameter tuning while RandomForest slighly perfomed better when cross validated. Although, the differences in their scores and training times are significantly low, RandomForestRegressor returns higher R2 and lower training time and standard deviation than XGBoost."
   ]
  },
  {
   "cell_type": "code",
   "execution_count": 58,
   "id": "5df9b927",
   "metadata": {},
   "outputs": [
    {
     "data": {
      "image/png": "[encoded data removed]",
      "text/plain": [
       "<Figure size 432x288 with 1 Axes>"
      ]
     },
     "metadata": {
      "needs_background": "light"
     },
     "output_type": "display_data"
    }
   ],
   "source": [
    "sns.boxplot(data = cv_scores_log2, x = 'Model', y = 'R2 Mean') \n",
    "plt.show()"
   ]
  },
  {
   "cell_type": "markdown",
   "id": "578110a0",
   "metadata": {},
   "source": [
    "###### Narration-\n",
    "Among the 3 tested modelings(iterations), modeling 1 has the worse perfomance metrics. Modeling 2 and 3 both returns similar metric results but modeling 3 is better because it handles the the transformation of all the skewed numeric features. \n",
    "\n",
    "Overall, the linear models (Ridge, Elastic, and Lasso) and KNN returned poorer metrics on both the training and test datasets than the non-linear RandomForestRegressor and XGBoost. The RandomForestRegressor and XGBoost algorithms have almost similar metric performances on train data set and prediction qualities, making either of the two algorithms  favorable for this task. Both algorithms have high train perfomances and don't perform so well on the test set, indicating higher overfitting. However, RandomForestRegressor has a slightly better computation time and lower standard deviation than XGBoost when cross validated with K-fold, making it a better option for energy predictions between the two models. Nonetheless, we will take a closer look at the two algorithms using their tuned parameters. "
   ]
  },
  {
   "cell_type": "markdown",
   "id": "bea8be65",
   "metadata": {},
   "source": [
    "### 4.0 Selection of best model\n",
    " - best iteration/modeling is modeling 3 - all numeric variables transformed"
   ]
  },
  {
   "cell_type": "code",
   "execution_count": 51,
   "id": "72046d0d",
   "metadata": {},
   "outputs": [],
   "source": [
    "# Using modeling 3\n",
    "# create models\n",
    "Model_best = {\"RandomForest\" : pipeline_2(RandomForestRegressor()), \n",
    "               \"XGB\": pipeline_2(XGBRegressor())}\n",
    "\n",
    "RF_param = {'regressor__random_state': [50],\n",
    "  'regressor__n_estimators': [200],\n",
    "  'regressor__min_samples_split': [5],\n",
    "  'regressor__min_samples_leaf': [2],\n",
    "  'regressor__max_features': ['sqrt'],\n",
    "  'regressor__max_depth': [15],\n",
    "  'regressor__bootstrap': [False]}\n",
    "\n",
    "XGB_param = {'regressor__n_estimators': [50],\n",
    "  'regressor__min_child_weight': [5],\n",
    "  'regressor__max_depth': [3],\n",
    "  'regressor__learning_rate': [0.3],\n",
    "  'regressor__gamma': [0]}\n",
    "\n",
    "param_best = {\"RandomForest\": RF_param, \"XGB\": XGB_param}     "
   ]
  },
  {
   "cell_type": "code",
   "execution_count": 52,
   "id": "b0fd2363",
   "metadata": {},
   "outputs": [
    {
     "data": {
      "text/html": [
       "<div>\n",
       "<style scoped>\n",
       "    .dataframe tbody tr th:only-of-type {\n",
       "        vertical-align: middle;\n",
       "    }\n",
       "\n",
       "    .dataframe tbody tr th {\n",
       "        vertical-align: top;\n",
       "    }\n",
       "\n",
       "    .dataframe thead th {\n",
       "        text-align: right;\n",
       "    }\n",
       "</style>\n",
       "<table border=\"1\" class=\"dataframe\">\n",
       "  <thead>\n",
       "    <tr style=\"text-align: right;\">\n",
       "      <th></th>\n",
       "      <th>Model</th>\n",
       "      <th>MSE</th>\n",
       "      <th>MAE</th>\n",
       "      <th>RMSE</th>\n",
       "      <th>R2_Train</th>\n",
       "      <th>R2_Test</th>\n",
       "      <th>Training time (mins)</th>\n",
       "    </tr>\n",
       "  </thead>\n",
       "  <tbody>\n",
       "    <tr>\n",
       "      <th>0</th>\n",
       "      <td>RandomForest</td>\n",
       "      <td>0.460508</td>\n",
       "      <td>0.397763</td>\n",
       "      <td>0.678608</td>\n",
       "      <td>0.909453</td>\n",
       "      <td>0.721421</td>\n",
       "      <td>0.10</td>\n",
       "    </tr>\n",
       "    <tr>\n",
       "      <th>1</th>\n",
       "      <td>XGB</td>\n",
       "      <td>0.467845</td>\n",
       "      <td>0.379753</td>\n",
       "      <td>0.683992</td>\n",
       "      <td>0.909453</td>\n",
       "      <td>0.721421</td>\n",
       "      <td>0.03</td>\n",
       "    </tr>\n",
       "  </tbody>\n",
       "</table>\n",
       "</div>"
      ],
      "text/plain": [
       "          Model       MSE       MAE      RMSE  R2_Train   R2_Test  \\\n",
       "0  RandomForest  0.460508  0.397763  0.678608  0.909453  0.721421   \n",
       "1           XGB  0.467845  0.379753  0.683992  0.909453  0.721421   \n",
       "\n",
       "   Training time (mins)  \n",
       "0                  0.10  \n",
       "1                  0.03  "
      ]
     },
     "execution_count": 52,
     "metadata": {},
     "output_type": "execute_result"
    }
   ],
   "source": [
    "X_log_train, X_log_test, y_log_train, y_log_test = train_test_split(X_log, y_log, test_size=0.30, random_state=50)\n",
    "\n",
    "kf = KFold(n_splits=10, shuffle=True, random_state=50)\n",
    "\n",
    "i=0\n",
    "\n",
    "# create DataFrame for metric results\n",
    "scores_best = pd.DataFrame({\n",
    "                    'Model':Model_best.keys(),\n",
    "                    'MSE' : np.zeros(len(Model_best)),\n",
    "                    'MAE': np.zeros(len(Model_best)),\n",
    "                    'RMSE': np.zeros(len(Model_best)),\n",
    "                    'R2_Train': np.zeros(len(Model_best)),\n",
    "                    'R2_Test': np.zeros(len(Model_best)),\n",
    "                    'Training time (mins)': np.zeros(len(Model_best))})\n",
    "                    \n",
    "# Make the GridSearchCV model \n",
    "\n",
    "for key, model in Model_best.items():\n",
    "    start = time.time()\n",
    "    GS_best = RandomizedSearchCV(estimator=model, param_distributions=param_best[key], n_jobs=-1, \n",
    "                                  n_iter = 20, cv=kf, verbose=0) \n",
    "        \n",
    "\n",
    "    # fitting the dataset i.e X and y\n",
    "    reg_best = GS_best.fit(X_log_train, y_log_train)\n",
    "    y_pred_best = GS_best.predict(X_log_test)\n",
    "    \n",
    "    #get the results\n",
    "    scores_best.iloc[i,1] = mean_squared_error(y_log_test, y_pred_best)\n",
    "    scores_best.iloc[i,2] = median_absolute_error(y_log_test, y_pred_best)\n",
    "    scores_best.iloc[i,3] = np.sqrt(mean_squared_error(y_log_test, y_pred_best))\n",
    "    scores_best.iloc[i,4] = reg_Xlog.score(X_log_train, y_log_train)\n",
    "    scores_best.iloc[i,5] = reg_Xlog.score(X_log_test, y_log_test)\n",
    "    \n",
    "          \n",
    "    stop = time.time()\n",
    "    scores_best.iloc[i,6]=np.round((stop - start)/60, 2)\n",
    "          \n",
    "    i += 1\n",
    "    \n",
    "scores_best.sort_values('R2_Test', ascending = False)"
   ]
  },
  {
   "cell_type": "code",
   "execution_count": 53,
   "id": "22457409",
   "metadata": {},
   "outputs": [
    {
     "data": {
      "text/html": [
       "<div>\n",
       "<style scoped>\n",
       "    .dataframe tbody tr th:only-of-type {\n",
       "        vertical-align: middle;\n",
       "    }\n",
       "\n",
       "    .dataframe tbody tr th {\n",
       "        vertical-align: top;\n",
       "    }\n",
       "\n",
       "    .dataframe thead th {\n",
       "        text-align: right;\n",
       "    }\n",
       "</style>\n",
       "<table border=\"1\" class=\"dataframe\">\n",
       "  <thead>\n",
       "    <tr style=\"text-align: right;\">\n",
       "      <th></th>\n",
       "      <th>Model</th>\n",
       "      <th>R2 Mean</th>\n",
       "      <th>Std</th>\n",
       "      <th>Training time (mins)</th>\n",
       "    </tr>\n",
       "  </thead>\n",
       "  <tbody>\n",
       "    <tr>\n",
       "      <th>0</th>\n",
       "      <td>RandomForest</td>\n",
       "      <td>0.720156</td>\n",
       "      <td>0.022499</td>\n",
       "      <td>0.24</td>\n",
       "    </tr>\n",
       "    <tr>\n",
       "      <th>1</th>\n",
       "      <td>XGB</td>\n",
       "      <td>0.716599</td>\n",
       "      <td>0.031952</td>\n",
       "      <td>0.29</td>\n",
       "    </tr>\n",
       "  </tbody>\n",
       "</table>\n",
       "</div>"
      ],
      "text/plain": [
       "          Model   R2 Mean       Std  Training time (mins)\n",
       "0  RandomForest  0.720156  0.022499                  0.24\n",
       "1           XGB  0.716599  0.031952                  0.29"
      ]
     },
     "execution_count": 53,
     "metadata": {},
     "output_type": "execute_result"
    }
   ],
   "source": [
    "i=0\n",
    "\n",
    "Regressor = {\"RandomForest\" : pipeline_2(RandomForestRegressor(random_state = 50,n_estimators = 200,\n",
    "  min_samples_split = 5, min_samples_leaf = 2, max_features = 'sqrt',max_depth = 15, bootstrap= False)), \n",
    "               \"XGB\": pipeline_2(XGBRegressor(n_estimators = 50, min_child_weight = 5,max_depth = 3,\n",
    "  learning_rate = 0.3, gamma = 0))}\n",
    "\n",
    "\n",
    "#Create result dictionary and dataframe\n",
    "\n",
    "scores = pd.DataFrame({'Model':Regressor.keys(),\n",
    "                               'R2 Mean' : np.zeros(len(Regressor)),\n",
    "                              'Std': np.zeros(len(Regressor)),\n",
    "                              'Training time (mins)': np.zeros(len(Regressor))})\n",
    "\n",
    "#Create the regression models\n",
    "for key, regressor in Regressor.items():\n",
    "    cv_result = cross_val_score(regressor, X_log, y_log, cv=kf, scoring='r2')\n",
    "        \n",
    "    scores.iloc[i,1] = cv_result.mean()\n",
    "    scores.iloc[i,2] = cv_result.std()\n",
    "        \n",
    "    stop = time.time()\n",
    "    scores.iloc[i,3]=np.round((stop - start)/60, 2)  \n",
    "    i+=1\n",
    "    \n",
    "scores.sort_values('R2 Mean', ascending = False)"
   ]
  },
  {
   "cell_type": "code",
   "execution_count": 54,
   "id": "247dc346",
   "metadata": {},
   "outputs": [
    {
     "data": {
      "image/png": "[encoded data removed]",
      "text/plain": [
       "<Figure size 1600x1200 with 4 Axes>"
      ]
     },
     "metadata": {
      "needs_background": "light"
     },
     "output_type": "display_data"
    }
   ],
   "source": [
    "label_1 = ['R2_Train', 'R2_Test']\n",
    "label_2 = ['MSE', 'MAE', 'RMSE']\n",
    "\n",
    "fig, ((ax1, ax2), (ax3, ax4)) = plt.subplots(2,2, figsize = (16,12), dpi = 100)\n",
    "\n",
    "scores_best[['R2_Train', 'R2_Test', 'Model']].plot(kind = 'line', x = 'Model', grid = True, \n",
    "                                title = ' Best Regressor Performance - R squared', ax = ax1)\n",
    "ax1.legend(labels = label_1, loc = 'upper left')\n",
    "\n",
    "scores_best[['Training time (mins)', 'Model']].plot(kind = 'line', x = 'Model', grid = True,\n",
    "                title = 'Regressor Training Time(mins)', ax = ax2)\n",
    "\n",
    "scores[['R2 Mean', 'Model']].plot(kind = 'line', x = 'Model', grid = True, \n",
    "            title = 'Cross validated - R squared', ax = ax3)\n",
    "\n",
    "scores_best[['MSE', 'MAE', 'RMSE', 'Model']].plot(kind = 'line', x = 'Model', grid = True,\n",
    "                    title = 'Regressor Performance - R squared', ax = ax4)\n",
    "ax4.legend(labels = label_2, loc = 'upper left')\n",
    "plt.show()"
   ]
  },
  {
   "cell_type": "markdown",
   "id": "8fd08951",
   "metadata": {},
   "source": [
    "- In conclusion, RandomForestRegressor and XGBoost both have close metric perfomances with near-zero differences. However, the higher R2 score, better running time, and low standard deviation give RandomForestRegressor an advantage over XGBoost, making it the selected algorithm for energy prediction in this task"
   ]
  },
  {
   "cell_type": "markdown",
   "id": "524b70eb",
   "metadata": {},
   "source": [
    "### 5.0 Feature importance"
   ]
  },
  {
   "cell_type": "markdown",
   "id": "32b6f037",
   "metadata": {},
   "source": [
    "##### 5.1 SHAP"
   ]
  },
  {
   "cell_type": "code",
   "execution_count": null,
   "id": "24b51101",
   "metadata": {},
   "outputs": [],
   "source": [
    "#!pip install shap"
   ]
  },
  {
   "cell_type": "code",
   "execution_count": null,
   "id": "6e5306d4",
   "metadata": {},
   "outputs": [],
   "source": [
    "# import shap\n",
    "import shap\n",
    "\n",
    "## load JS visualization code \n",
    "shap.initjs()\n",
    "\n",
    "#instantiate regressor model\n",
    "regressor = RandomForestRegressor(random_state = 50,n_estimators = 200, min_samples_split = 5, \n",
    "                                  min_samples_leaf = 2, max_features = 'sqrt',max_depth = 15, bootstrap= False)"
   ]
  },
  {
   "cell_type": "code",
   "execution_count": null,
   "id": "710aa8c9",
   "metadata": {},
   "outputs": [],
   "source": [
    "#Scale numeric features\n",
    "Scaled_numeric = StandardScaler().fit_transform(Data_Energy[num_log])\n",
    "\n",
    "# put scaled numeric feature in a dataframe\n",
    "Scaled_numeric_df = pd.DataFrame(Scaled_numeric, columns = num_log)\n",
    "\n",
    "#scale categorical features\n",
    "Scaled_category = TargetEncoder().fit_transform(Data_Energy[Cat_feat], y_log)\n",
    "\n",
    "# combine dataframes of numeric and standard features \n",
    "X_scaled = pd.concat([Scaled_category, Scaled_numeric_df], axis = 1)"
   ]
  },
  {
   "cell_type": "code",
   "execution_count": null,
   "id": "ac27b11a",
   "metadata": {},
   "outputs": [],
   "source": [
    "X_scaled_train, X_scaled_test, y_log_train, y_log_test = train_test_split(X_scaled, y_log, test_size=0.30, random_state=50)"
   ]
  },
  {
   "cell_type": "code",
   "execution_count": null,
   "id": "d6c225ed",
   "metadata": {},
   "outputs": [],
   "source": [
    "# train RandomForestRegressor model\n",
    "regressor.fit(X_scaled, y_log)"
   ]
  },
  {
   "cell_type": "markdown",
   "id": "7ddae366",
   "metadata": {},
   "source": [
    "##### 5.1.1 Global feature importance (explainability)\n",
    " - to have a better idea of what features affect the prediction the most and how the model is making its decisions"
   ]
  },
  {
   "cell_type": "code",
   "execution_count": null,
   "id": "abfa8c05",
   "metadata": {},
   "outputs": [],
   "source": [
    "# explain the model's predictions using SHAP values\n",
    "shap_values = shap.Explainer(regressor).shap_values(X_scaled)"
   ]
  },
  {
   "cell_type": "code",
   "execution_count": null,
   "id": "f8b7c2ef",
   "metadata": {},
   "outputs": [],
   "source": [
    "# # visualize the summary effects of all the features\n",
    "shap.summary_plot(shap_values, X_scaled, plot_type = 'bar')"
   ]
  },
  {
   "cell_type": "markdown",
   "id": "95b1f2bd",
   "metadata": {},
   "source": [
    "Narration -\n",
    " - The surface area of the largest property and the primary use of the properties have the largest influence on energy consumption, respectively. The number of buildings and building types have less effect on the prediction model"
   ]
  },
  {
   "cell_type": "code",
   "execution_count": null,
   "id": "37470c21",
   "metadata": {},
   "outputs": [],
   "source": [
    "# visualize the training set predictions\n",
    "shap_values = shap.Explainer(regressor, X_scaled_train)(X_scaled_test)\n",
    "shap.plots.beeswarm(shap_values)"
   ]
  },
  {
   "cell_type": "markdown",
   "id": "4099a802",
   "metadata": {},
   "source": [
    "##### 5.1.2 Local feature importance (explainability)\n",
    "- concerned with explaining each individual prediction. "
   ]
  },
  {
   "cell_type": "code",
   "execution_count": null,
   "id": "4a4462ea",
   "metadata": {},
   "outputs": [],
   "source": [
    "shap.plots.bar(shap_values[4])"
   ]
  },
  {
   "cell_type": "code",
   "execution_count": null,
   "id": "de31d306",
   "metadata": {},
   "outputs": [],
   "source": [
    "shap.plots.bar(shap_values[3])"
   ]
  },
  {
   "cell_type": "code",
   "execution_count": null,
   "id": "90df7fcd",
   "metadata": {},
   "outputs": [],
   "source": [
    "shap.plots.bar(shap_values[20])"
   ]
  },
  {
   "cell_type": "markdown",
   "id": "dcc0a115",
   "metadata": {},
   "source": [
    "### 6.0 Influence of Energy star score "
   ]
  },
  {
   "cell_type": "markdown",
   "id": "91ec31ac",
   "metadata": {},
   "source": [
    "Using modeling 3"
   ]
  },
  {
   "cell_type": "code",
   "execution_count": null,
   "id": "b1f96a28",
   "metadata": {},
   "outputs": [],
   "source": [
    "Data_Energy['ENERGYSTARScore'] = Data['ENERGYSTARScore']"
   ]
  },
  {
   "cell_type": "code",
   "execution_count": null,
   "id": "209683f8",
   "metadata": {},
   "outputs": [],
   "source": [
    "Data_Energy['ENERGYSTARScore'].isnull().sum()"
   ]
  },
  {
   "cell_type": "code",
   "execution_count": null,
   "id": "8c2e0cac",
   "metadata": {},
   "outputs": [],
   "source": [
    "# Replace NaN with median\n",
    "Data_Energy['ENERGYSTARScore'].fillna(Data_Energy['ENERGYSTARScore'].median(), inplace = True)"
   ]
  },
  {
   "cell_type": "markdown",
   "id": "f02bb2b8",
   "metadata": {},
   "source": [
    "Distribution plot of EnergyStarScore"
   ]
  },
  {
   "cell_type": "code",
   "execution_count": null,
   "id": "4cc42e13",
   "metadata": {},
   "outputs": [],
   "source": [
    "plt.figure(figsize=(10, 4))\n",
    "plt.grid(False) \n",
    "sns.histplot(data = Data_Energy, x = 'ENERGYSTARScore')\n",
    "plt.ylabel('Score')\n",
    "plt.title('Distribution plot of EnergyStarScore')\n",
    "plt.show()"
   ]
  },
  {
   "cell_type": "markdown",
   "id": "b51189d7",
   "metadata": {},
   "source": [
    "Relationship between Energy Starscore and total energy used"
   ]
  },
  {
   "cell_type": "code",
   "execution_count": null,
   "id": "bba21d70",
   "metadata": {},
   "outputs": [],
   "source": [
    "plt.figure(figsize=(8,6), dpi = 80)\n",
    "plt.grid(False)\n",
    "sns.scatterplot(x = 'SiteEnergyUse(kBtu)', y = 'ENERGYSTARScore', data = Data_Energy, hue = 'BuildingAge') \n",
    "plt.show()"
   ]
  },
  {
   "cell_type": "code",
   "execution_count": null,
   "id": "a996bd6b",
   "metadata": {},
   "outputs": [],
   "source": [
    "#log transform 'ENERGYSTARScore'\n",
    "Data_Energy['Log_ESS'] = logtransformer.transform(Data_Energy['ENERGYSTARScore'] + 1)"
   ]
  },
  {
   "cell_type": "code",
   "execution_count": null,
   "id": "6b3b6e74",
   "metadata": {},
   "outputs": [],
   "source": [
    "X_ESS = Data_Energy.drop(['SiteEnergyUse(kBtu)', 'ENERGYSTARScore'], axis = 1)"
   ]
  },
  {
   "cell_type": "code",
   "execution_count": null,
   "id": "02a18a0c",
   "metadata": {},
   "outputs": [],
   "source": [
    "Num_feat_E = ['NumberofBuildings', 'NumberofFloors', 'PropertyGFAParking', 'LargestPropertyUseTypeGFA',\n",
    " 'SecondLargestPropertyUseTypeGFA', 'ThirdLargestPropertyUseTypeGFA', 'Log_ESS', 'BuildingAge', 'AreaPerFloor']\n",
    "Cat_feat = ['BuildingType', 'Neighborhood', 'PrimaryPropertyType', 'LargestPropertyUseType', 'SecondLargestPropertyUseType']"
   ]
  },
  {
   "cell_type": "code",
   "execution_count": null,
   "id": "cb04a1c4",
   "metadata": {},
   "outputs": [],
   "source": [
    "X_ESS.describe()"
   ]
  },
  {
   "cell_type": "code",
   "execution_count": null,
   "id": "dc39905b",
   "metadata": {},
   "outputs": [],
   "source": [
    "X_ESS.shape"
   ]
  },
  {
   "cell_type": "code",
   "execution_count": null,
   "id": "432f2633",
   "metadata": {},
   "outputs": [],
   "source": [
    "y_log.shape"
   ]
  },
  {
   "cell_type": "code",
   "execution_count": null,
   "id": "c6cda437",
   "metadata": {},
   "outputs": [],
   "source": [
    "X_ESS_train, X_ESS_test, y_log_train, y_log_test = train_test_split(X_ESS, y_log, test_size=0.30, random_state=50)"
   ]
  },
  {
   "cell_type": "code",
   "execution_count": null,
   "id": "099fc28f",
   "metadata": {},
   "outputs": [],
   "source": [
    "# standadize and instantiate the pipeline\n",
    "numeric_transformer = Pipeline([('scaler', StandardScaler())]) \n",
    "categorical_transformer = Pipeline([('scaler', TargetEncoder())])\n",
    "\n",
    "preprocessor = ColumnTransformer(transformers=[(\"num\", numeric_transformer, Num_feat_E),\n",
    "        (\"cat\", categorical_transformer, Cat_feat),])\n",
    "    \n",
    "model_pipe_ESS = Pipeline(steps=[(\"preprocessor\", preprocessor), (\"regressor\", RandomForestRegressor\n",
    "        (random_state = 50,n_estimators = 200, min_samples_split = 5, min_samples_leaf = 2, \n",
    "         max_features = 'sqrt', max_depth = 15, bootstrap= False))])"
   ]
  },
  {
   "cell_type": "code",
   "execution_count": null,
   "id": "6423621a",
   "metadata": {},
   "outputs": [],
   "source": [
    "# fit the model\n",
    "model_pipe_ESS.fit(X_ESS_train, y_log_train) \n",
    "\n",
    "# predict the model\n",
    "y_pred_ESS = model_pipe_ESS.predict(X_ESS_test) "
   ]
  },
  {
   "cell_type": "markdown",
   "id": "3bd86533",
   "metadata": {},
   "source": [
    "###### 6.1 Metric perfomance\n",
    " - Test set"
   ]
  },
  {
   "cell_type": "code",
   "execution_count": null,
   "id": "9c80812d",
   "metadata": {},
   "outputs": [],
   "source": [
    "# Quantify and print model score\n",
    "print(\"R2 Test: %.4f\" % model_pipe_ESS.score(X_ESS_test, y_log_test)) # coefficient of determinantion\n",
    "print(\"MSE: %.3f\" % mean_squared_error(y_log_test, y_pred_ESS))\n",
    "print(\"MAE: %.3f\" % median_absolute_error(y_log_test, y_pred_ESS))\n",
    "print(\"RMSE: %.3f\" % np.sqrt(mean_squared_error(y_log_test, y_pred_ESS)))"
   ]
  },
  {
   "cell_type": "markdown",
   "id": "c55d012f",
   "metadata": {},
   "source": [
    " - Train set"
   ]
  },
  {
   "cell_type": "code",
   "execution_count": null,
   "id": "3adeb1fe",
   "metadata": {},
   "outputs": [],
   "source": [
    "y_pred_ESS = model_pipe_ESS.predict(X_ESS_train) \n",
    "# Quantify and print model score\n",
    "print(\"R2 Train: %.4f\" % model_pipe_ESS.score(X_ESS_train, y_log_train)) # coefficient of determinantion\n",
    "print(\"MSE: %.3f\" % mean_squared_error(y_log_train, y_pred_ESS))\n",
    "print(\"MAE: %.3f\" % median_absolute_error(y_log_train, y_pred_ESS))\n",
    "print(\"RMSE: %.3f\" % np.sqrt(mean_squared_error(y_log_train, y_pred_ESS)))"
   ]
  },
  {
   "cell_type": "markdown",
   "id": "a964ede8",
   "metadata": {},
   "source": [
    "###### 6.2 Cross validation"
   ]
  },
  {
   "cell_type": "code",
   "execution_count": null,
   "id": "d70fb0db",
   "metadata": {},
   "outputs": [],
   "source": [
    "kfold = KFold(n_splits=10, shuffle=True, random_state=50)\n",
    "\n",
    "cv_result = cross_val_score(model_pipe_ESS, X_ESS, y_log, cv=kfold, scoring='r2')\n",
    "print(\"cv_result mean: %.3f\" % cv_result.mean())\n",
    "print(\"cv_result std: %.3f\" % cv_result.std())"
   ]
  },
  {
   "cell_type": "markdown",
   "id": "c4583f93",
   "metadata": {},
   "source": [
    "###### 6.3 Conclusion\n",
    " - The perfomance of the RandomForestRegressor improves with EnergyStarScore"
   ]
  },
  {
   "cell_type": "markdown",
   "id": "89e6e016",
   "metadata": {},
   "source": [
    "###### 6.4 Feature importance with EnergyStarScore"
   ]
  },
  {
   "cell_type": "code",
   "execution_count": null,
   "id": "3dc59a0c",
   "metadata": {},
   "outputs": [],
   "source": [
    "#Scale numeric features\n",
    "Scaled_numeric_ESS = StandardScaler().fit_transform(Data_Energy[Num_feat_E])\n",
    "\n",
    "# put scaled numeric feature in a dataframe\n",
    "ESS_numeric_df = pd.DataFrame(Scaled_numeric_ESS, columns = Num_feat_E)\n",
    "\n",
    "#scale categorical features\n",
    "Scaled_category = TargetEncoder().fit_transform(Data_Energy[Cat_feat], y_log)\n",
    "\n",
    "# combine dataframes of numeric and standard features \n",
    "X_scaled_ESS = pd.concat([Scaled_category, ESS_numeric_df], axis = 1)"
   ]
  },
  {
   "cell_type": "code",
   "execution_count": null,
   "id": "f22f106c",
   "metadata": {},
   "outputs": [],
   "source": [
    "X_scaled_ESS_train, X_scaled_ESS_test, y_log_train, y_log_test = train_test_split(X_scaled_ESS, y_log, \n",
    "                                                                                  test_size=0.30, random_state=50)"
   ]
  },
  {
   "cell_type": "code",
   "execution_count": null,
   "id": "791c85e8",
   "metadata": {},
   "outputs": [],
   "source": [
    "# train RandomForestRegressor model\n",
    "regressor.fit(X_scaled_ESS, y_log)"
   ]
  },
  {
   "cell_type": "code",
   "execution_count": null,
   "id": "e81b13ac",
   "metadata": {},
   "outputs": [],
   "source": [
    "# explain the model's predictions using SHAP values\n",
    "shap_values = shap.Explainer(regressor).shap_values(X_scaled_ESS)"
   ]
  },
  {
   "cell_type": "code",
   "execution_count": null,
   "id": "60362ca9",
   "metadata": {},
   "outputs": [],
   "source": [
    "shap.summary_plot(shap_values, X_scaled_ESS, plot_type = 'bar')"
   ]
  },
  {
   "cell_type": "markdown",
   "id": "1ff5694b",
   "metadata": {},
   "source": [
    "- EnergyStarScore is the 5th important feature in predicting the energy used."
   ]
  },
  {
   "cell_type": "code",
   "execution_count": null,
   "id": "9fdc8bc1",
   "metadata": {},
   "outputs": [],
   "source": []
  }
 ],
 "metadata": {
  "kernelspec": {
   "display_name": "Python 3 (ipykernel)",
   "language": "python",
   "name": "python3"
  },
  "language_info": {
   "codemirror_mode": {
    "name": "ipython",
    "version": 3
   },
   "file_extension": ".py",
   "mimetype": "text/x-python",
   "name": "python",
   "nbconvert_exporter": "python",
   "pygments_lexer": "ipython3",
   "version": "3.9.15"
  }
 },
 "nbformat": 4,
 "nbformat_minor": 5
}
